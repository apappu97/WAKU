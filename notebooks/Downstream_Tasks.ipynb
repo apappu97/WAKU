{
  "nbformat": 4,
  "nbformat_minor": 0,
  "metadata": {
    "kernelspec": {
      "name": "python3",
      "display_name": "Python 3"
    },
    "language_info": {
      "codemirror_mode": {
        "name": "ipython",
        "version": 3
      },
      "file_extension": ".py",
      "mimetype": "text/x-python",
      "name": "python",
      "nbconvert_exporter": "python",
      "pygments_lexer": "ipython3",
      "version": "3.7.3"
    },
    "colab": {
      "name": "Downstream Tasks.ipynb",
      "provenance": [],
      "collapsed_sections": [],
      "toc_visible": true
    },
    "accelerator": "GPU"
  },
  "cells": [
    {
      "cell_type": "markdown",
      "metadata": {
        "id": "6cj8BEFN1J_z",
        "colab_type": "text"
      },
      "source": [
        "## Setup"
      ]
    },
    {
      "cell_type": "code",
      "metadata": {
        "id": "ADvPMjts18R-",
        "colab_type": "code",
        "colab": {}
      },
      "source": [
        "from google.colab import drive # import drive from google colab"
      ],
      "execution_count": 0,
      "outputs": []
    },
    {
      "cell_type": "code",
      "metadata": {
        "id": "Ik9QJv2F18SJ",
        "colab_type": "code",
        "outputId": "da96642e-a95c-4140-b64f-82a67b047f3c",
        "colab": {
          "base_uri": "https://localhost:8080/",
          "height": 139
        }
      },
      "source": [
        "ROOT = \"/content/drive\"     # default location for the drive\n",
        "print(ROOT)                 # print content of ROOT (Optional)\n",
        "\n",
        "drive.mount(ROOT)           # we mount the google drive at /content/drive"
      ],
      "execution_count": 6,
      "outputs": [
        {
          "output_type": "stream",
          "text": [
            "/content/drive\n",
            "Go to this URL in a browser: https://accounts.google.com/o/oauth2/auth?client_id=947318989803-6bn6qk8qdgf4n4g3pfee6491hc0brc4i.apps.googleusercontent.com&redirect_uri=urn%3aietf%3awg%3aoauth%3a2.0%3aoob&response_type=code&scope=email%20https%3a%2f%2fwww.googleapis.com%2fauth%2fdocs.test%20https%3a%2f%2fwww.googleapis.com%2fauth%2fdrive%20https%3a%2f%2fwww.googleapis.com%2fauth%2fdrive.photos.readonly%20https%3a%2f%2fwww.googleapis.com%2fauth%2fpeopleapi.readonly\n",
            "\n",
            "Enter your authorization code:\n",
            "··········\n",
            "Mounted at /content/drive\n"
          ],
          "name": "stdout"
        }
      ]
    },
    {
      "cell_type": "code",
      "metadata": {
        "id": "OkEyy6tN18SP",
        "colab_type": "code",
        "outputId": "46086502-5759-4e02-d5d5-62482f8f7d07",
        "colab": {
          "base_uri": "https://localhost:8080/",
          "height": 51
        }
      },
      "source": [
        "NLP_directory = !find '/content/drive' -type d -name \"NLP Class\"\n",
        "NLP_directory = NLP_directory[0]\n",
        "print(NLP_directory)"
      ],
      "execution_count": 7,
      "outputs": [
        {
          "output_type": "stream",
          "text": [
            "^C\n",
            "/content/drive/My Drive/Marshall Scholarship/UCL/NLP Class\n"
          ],
          "name": "stdout"
        }
      ]
    },
    {
      "cell_type": "code",
      "metadata": {
        "id": "0CeI3L1I18ST",
        "colab_type": "code",
        "outputId": "2bf4e23e-7f75-425a-d620-a58042e35627",
        "colab": {
          "base_uri": "https://localhost:8080/",
          "height": 34
        }
      },
      "source": [
        "%cd $NLP_directory"
      ],
      "execution_count": 8,
      "outputs": [
        {
          "output_type": "stream",
          "text": [
            "/content/drive/My Drive/Marshall Scholarship/UCL/NLP Class\n"
          ],
          "name": "stdout"
        }
      ]
    },
    {
      "cell_type": "code",
      "metadata": {
        "id": "n749RL3vU9Uc",
        "colab_type": "code",
        "colab": {
          "base_uri": "https://localhost:8080/",
          "height": 918
        },
        "outputId": "ef493de3-beef-49bd-8d36-8d0ce5216f87"
      },
      "source": [
        "!wget https://repo.continuum.io/miniconda/Miniconda3-4.5.4-Linux-x86_64.sh && bash Miniconda3-4.5.4-Linux-x86_64.sh -bfp /usr/local\n",
        "import sys\n",
        "sys.path.append('/usr/local/lib/python3.6/site-packages')\n",
        "sys.path.append('../')"
      ],
      "execution_count": 9,
      "outputs": [
        {
          "output_type": "stream",
          "text": [
            "--2020-03-28 20:52:58--  https://repo.continuum.io/miniconda/Miniconda3-4.5.4-Linux-x86_64.sh\n",
            "Resolving repo.continuum.io (repo.continuum.io)... 104.18.201.79, 104.18.200.79, 2606:4700::6812:c84f, ...\n",
            "Connecting to repo.continuum.io (repo.continuum.io)|104.18.201.79|:443... connected.\n",
            "HTTP request sent, awaiting response... 200 OK\n",
            "Length: 58468498 (56M) [application/x-sh]\n",
            "Saving to: ‘Miniconda3-4.5.4-Linux-x86_64.sh.8’\n",
            "\n",
            "\r          Miniconda   0%[                    ]       0  --.-KB/s               \r         Miniconda3  30%[=====>              ]  16.93M  84.6MB/s               \r        Miniconda3-  56%[==========>         ]  31.51M  78.7MB/s               \r       Miniconda3-4  82%[===============>    ]  46.02M  76.6MB/s               \rMiniconda3-4.5.4-Li 100%[===================>]  55.76M  76.4MB/s    in 0.7s    \n",
            "\n",
            "2020-03-28 20:52:59 (76.4 MB/s) - ‘Miniconda3-4.5.4-Linux-x86_64.sh.8’ saved [58468498/58468498]\n",
            "\n",
            "PREFIX=/usr/local\n",
            "installing: python-3.6.5-hc3d631a_2 ...\n",
            "Python 3.6.5 :: Anaconda, Inc.\n",
            "installing: ca-certificates-2018.03.07-0 ...\n",
            "installing: conda-env-2.6.0-h36134e3_1 ...\n",
            "installing: libgcc-ng-7.2.0-hdf63c60_3 ...\n",
            "installing: libstdcxx-ng-7.2.0-hdf63c60_3 ...\n",
            "installing: libffi-3.2.1-hd88cf55_4 ...\n",
            "installing: ncurses-6.1-hf484d3e_0 ...\n",
            "installing: openssl-1.0.2o-h20670df_0 ...\n",
            "installing: tk-8.6.7-hc745277_3 ...\n",
            "installing: xz-5.2.4-h14c3975_4 ...\n",
            "installing: yaml-0.1.7-had09818_2 ...\n",
            "installing: zlib-1.2.11-ha838bed_2 ...\n",
            "installing: libedit-3.1.20170329-h6b74fdf_2 ...\n",
            "installing: readline-7.0-ha6073c6_4 ...\n",
            "installing: sqlite-3.23.1-he433501_0 ...\n",
            "installing: asn1crypto-0.24.0-py36_0 ...\n",
            "installing: certifi-2018.4.16-py36_0 ...\n",
            "installing: chardet-3.0.4-py36h0f667ec_1 ...\n",
            "installing: idna-2.6-py36h82fb2a8_1 ...\n",
            "installing: pycosat-0.6.3-py36h0a5515d_0 ...\n",
            "installing: pycparser-2.18-py36hf9f622e_1 ...\n",
            "installing: pysocks-1.6.8-py36_0 ...\n",
            "installing: ruamel_yaml-0.15.37-py36h14c3975_2 ...\n",
            "installing: six-1.11.0-py36h372c433_1 ...\n",
            "installing: cffi-1.11.5-py36h9745a5d_0 ...\n",
            "installing: setuptools-39.2.0-py36_0 ...\n",
            "installing: cryptography-2.2.2-py36h14c3975_0 ...\n",
            "installing: wheel-0.31.1-py36_0 ...\n",
            "installing: pip-10.0.1-py36_0 ...\n",
            "installing: pyopenssl-18.0.0-py36_0 ...\n",
            "installing: urllib3-1.22-py36hbe7ace6_0 ...\n",
            "installing: requests-2.18.4-py36he2e5f8d_1 ...\n",
            "installing: conda-4.5.4-py36_0 ...\n",
            "installation finished.\n",
            "WARNING:\n",
            "    You currently have a PYTHONPATH environment variable set. This may cause\n",
            "    unexpected behavior when running the Python interpreter in Miniconda3.\n",
            "    For best results, please verify that your PYTHONPATH only points to\n",
            "    directories of packages that are compatible with the Python interpreter\n",
            "    in Miniconda3: /usr/local\n"
          ],
          "name": "stdout"
        }
      ]
    },
    {
      "cell_type": "code",
      "metadata": {
        "id": "oHVQbBcrfSIX",
        "colab_type": "code",
        "colab": {
          "base_uri": "https://localhost:8080/",
          "height": 1000
        },
        "outputId": "2f680933-f4fb-4b58-c8dd-a22cdec82f15"
      },
      "source": [
        "# install TSNE CUDA. Ensure that cuda101 is replaced with cuda<major><minor> for your appropriate CUDA version\n",
        "## NOTE -- when installing tsne cuda you will have to enter a 'y' to continue with the installation once. So don't start this cell and leave it expecting to finish on its own.\n",
        "!conda install tsnecuda cuda101 -c cannylab"
      ],
      "execution_count": 10,
      "outputs": [
        {
          "output_type": "stream",
          "text": [
            "Solving environment: - \b\b\\ \b\b| \b\b/ \b\b- \b\b\\ \b\b| \b\b/ \b\b- \b\b\\ \b\b| \b\b/ \b\b- \b\b\\ \b\b| \b\b/ \b\b- \b\b\\ \b\b| \b\b/ \b\b- \b\b\\ \b\b| \b\b/ \b\b- \b\b\\ \b\b| \b\b/ \b\b- \b\b\\ \b\b| \b\b/ \b\b- \b\b\\ \b\b| \b\b/ \b\b- \b\b\\ \b\b| \b\b/ \b\b- \b\b\\ \b\b| \b\b/ \b\b- \b\b\\ \b\b| \b\b/ \b\b- \b\b\\ \b\b| \b\b/ \b\b- \b\b\\ \b\b| \b\b/ \b\b- \b\b\\ \b\b| \b\b/ \b\b- \b\b\\ \b\b| \b\b/ \b\b- \b\b\\ \b\b| \b\b/ \b\b- \b\b\\ \b\b| \b\b/ \b\b- \b\b\\ \b\b| \b\b/ \b\b- \b\b\\ \b\b| \b\b/ \b\b- \b\b\\ \b\b| \b\b/ \b\b- \b\b\\ \b\b| \b\b/ \b\b- \b\b\\ \b\b| \b\b/ \b\b- \b\b\\ \b\b| \b\b/ \b\b- \b\b\\ \b\b| \b\b/ \b\b- \b\b\\ \b\b| \b\b/ \b\b- \b\b\\ \b\b| \b\b/ \b\b- \b\b\\ \b\b| \b\b/ \b\b- \b\b\\ \b\b| \b\b/ \b\b- \b\b\\ \b\b| \b\b/ \b\b- \b\b\\ \b\b| \b\b/ \b\b- \b\b\\ \b\b| \b\b/ \b\b- \b\b\\ \b\b| \b\b/ \b\b- \b\b\\ \b\b| \b\b/ \b\b- \b\b\\ \b\b| \b\b/ \b\b- \b\b\\ \b\b| \b\b/ \b\b- \b\b\\ \b\b| \b\b/ \b\b- \b\b\\ \b\b| \b\b/ \b\b- \b\b\\ \b\b| \b\b/ \b\b- \b\b\\ \b\b| \b\b/ \b\b- \b\b\\ \b\b| \b\b/ \b\b- \b\b\\ \b\b| \b\b/ \b\b- \b\b\\ \b\b| \b\b/ \b\b- \b\b\\ \b\b| \b\b/ \b\b- \b\b\\ \b\b| \b\b/ \b\b- \b\b\\ \b\b| \b\b/ \b\b- \b\b\\ \b\b| \b\b/ \b\b- \b\b\\ \b\b| \b\b/ \b\b- \b\b\\ \b\b| \b\b/ \b\b- \b\b\\ \b\b| \b\b/ \b\b- \b\b\\ \b\b| \b\b/ \b\b- \b\b\\ \b\b| \b\b/ \b\bdone\n",
            "\n",
            "\n",
            "==> WARNING: A newer version of conda exists. <==\n",
            "  current version: 4.5.4\n",
            "  latest version: 4.8.3\n",
            "\n",
            "Please update conda by running\n",
            "\n",
            "    $ conda update -n base conda\n",
            "\n",
            "\n",
            "\n",
            "## Package Plan ##\n",
            "\n",
            "  environment location: /usr/local\n",
            "\n",
            "  added / updated specs: \n",
            "    - cuda101\n",
            "    - tsnecuda\n",
            "\n",
            "\n",
            "The following packages will be downloaded:\n",
            "\n",
            "    package                    |            build\n",
            "    ---------------------------|-----------------\n",
            "    libgfortran-3.0.0          |                1         281 KB\n",
            "    numpy-base-1.18.1          |   py36hde5b4d6_1         5.2 MB\n",
            "    wheel-0.34.2               |           py36_0          49 KB\n",
            "    sqlite-3.31.1              |       h7b6447c_0         2.0 MB\n",
            "    readline-7.0               |       h7b6447c_5         392 KB\n",
            "    zlib-1.2.11                |       h7b6447c_3         120 KB\n",
            "    ca-certificates-2020.1.1   |                0         132 KB\n",
            "    tk-8.6.8                   |       hbc83047_0         3.1 MB\n",
            "    certifi-2019.11.28         |           py36_1         157 KB\n",
            "    openssl-1.0.2u             |       h7b6447c_0         3.1 MB\n",
            "    mkl-2020.0                 |              166       202.1 MB\n",
            "    six-1.14.0                 |           py36_0          27 KB\n",
            "    numpy-1.18.1               |   py36h4f9e942_0           5 KB\n",
            "    setuptools-46.1.1          |           py36_0         660 KB\n",
            "    mkl_random-1.0.1           |   py36h629b387_0         373 KB\n",
            "    mkl-service-2.3.0          |   py36he904b0f_0         208 KB\n",
            "    intel-openmp-2020.0        |              166         916 KB\n",
            "    pip-20.0.2                 |           py36_1         1.9 MB\n",
            "    python-3.6.6               |       hc3d631a_0        29.4 MB\n",
            "    tsnecuda-2.1.0             |          cuda101        35.9 MB  cannylab\n",
            "    blas-1.0                   |              mkl           6 KB\n",
            "    openblas-0.2.19            |                0         3.0 MB\n",
            "    _libgcc_mutex-0.1          |             main           3 KB\n",
            "    libgfortran-ng-7.3.0       |       hdf63c60_0         1.3 MB\n",
            "    cuda101-1.0                |       h589bae5_0           4 KB  cannylab\n",
            "    mkl_fft-1.0.1              |   py36h3010b51_0         140 KB\n",
            "    libgcc-ng-9.1.0            |       hdf63c60_0         8.1 MB\n",
            "    libedit-3.1.20181209       |       hc058e9b_0         188 KB\n",
            "    libopenblas-0.3.6          |       h5a2b251_2         7.7 MB\n",
            "    ------------------------------------------------------------\n",
            "                                           Total:       306.5 MB\n",
            "\n",
            "The following NEW packages will be INSTALLED:\n",
            "\n",
            "    _libgcc_mutex:   0.1-main                        \n",
            "    blas:            1.0-mkl                         \n",
            "    cuda101:         1.0-h589bae5_0          cannylab\n",
            "    intel-openmp:    2020.0-166                      \n",
            "    libgfortran:     3.0.0-1                         \n",
            "    libgfortran-ng:  7.3.0-hdf63c60_0                \n",
            "    libopenblas:     0.3.6-h5a2b251_2                \n",
            "    mkl:             2020.0-166                      \n",
            "    mkl-service:     2.3.0-py36he904b0f_0            \n",
            "    mkl_fft:         1.0.1-py36h3010b51_0            \n",
            "    mkl_random:      1.0.1-py36h629b387_0            \n",
            "    numpy:           1.18.1-py36h4f9e942_0           \n",
            "    numpy-base:      1.18.1-py36hde5b4d6_1           \n",
            "    openblas:        0.2.19-0                        \n",
            "    tsnecuda:        2.1.0-cuda101           cannylab [cuda101]\n",
            "\n",
            "The following packages will be UPDATED:\n",
            "\n",
            "    ca-certificates: 2018.03.07-0                     --> 2020.1.1-0             \n",
            "    certifi:         2018.4.16-py36_0                 --> 2019.11.28-py36_1      \n",
            "    libedit:         3.1.20170329-h6b74fdf_2          --> 3.1.20181209-hc058e9b_0\n",
            "    libgcc-ng:       7.2.0-hdf63c60_3                 --> 9.1.0-hdf63c60_0       \n",
            "    openssl:         1.0.2o-h20670df_0                --> 1.0.2u-h7b6447c_0      \n",
            "    pip:             10.0.1-py36_0                    --> 20.0.2-py36_1          \n",
            "    python:          3.6.5-hc3d631a_2                 --> 3.6.6-hc3d631a_0       \n",
            "    readline:        7.0-ha6073c6_4                   --> 7.0-h7b6447c_5         \n",
            "    setuptools:      39.2.0-py36_0                    --> 46.1.1-py36_0          \n",
            "    six:             1.11.0-py36h372c433_1            --> 1.14.0-py36_0          \n",
            "    sqlite:          3.23.1-he433501_0                --> 3.31.1-h7b6447c_0      \n",
            "    tk:              8.6.7-hc745277_3                 --> 8.6.8-hbc83047_0       \n",
            "    wheel:           0.31.1-py36_0                    --> 0.34.2-py36_0          \n",
            "    zlib:            1.2.11-ha838bed_2                --> 1.2.11-h7b6447c_3      \n",
            "\n",
            "Proceed ([y]/n)? y\n",
            "\n",
            "\n",
            "Downloading and Extracting Packages\n",
            "libgfortran-3.0.0    |  281 KB | : 100% 1.0/1 [00:00<00:00, 10.69it/s]\n",
            "numpy-base-1.18.1    |  5.2 MB | : 100% 1.0/1 [00:01<00:00,  1.20s/it]               \n",
            "wheel-0.34.2         |   49 KB | : 100% 1.0/1 [00:00<00:00, 20.11it/s]\n",
            "sqlite-3.31.1        |  2.0 MB | : 100% 1.0/1 [00:00<00:00,  3.10it/s]               \n",
            "readline-7.0         |  392 KB | : 100% 1.0/1 [00:00<00:00,  9.16it/s]\n",
            "zlib-1.2.11          |  120 KB | : 100% 1.0/1 [00:00<00:00, 21.25it/s]\n",
            "ca-certificates-2020 |  132 KB | : 100% 1.0/1 [00:00<00:00, 19.88it/s]\n",
            "tk-8.6.8             |  3.1 MB | : 100% 1.0/1 [00:00<00:00,  1.58it/s]               \n",
            "certifi-2019.11.28   |  157 KB | : 100% 1.0/1 [00:00<00:00, 16.38it/s]\n",
            "openssl-1.0.2u       |  3.1 MB | : 100% 1.0/1 [00:00<00:00,  1.56it/s]               \n",
            "mkl-2020.0           | 202.1 MB | : 100% 1.0/1 [00:35<00:00, 35.90s/it]                \n",
            "six-1.14.0           |   27 KB | : 100% 1.0/1 [00:00<00:00, 33.83it/s]\n",
            "numpy-1.18.1         |    5 KB | : 100% 1.0/1 [00:00<00:00, 42.24it/s]\n",
            "setuptools-46.1.1    |  660 KB | : 100% 1.0/1 [00:00<00:00,  4.79it/s]               \n",
            "mkl_random-1.0.1     |  373 KB | : 100% 1.0/1 [00:00<00:00,  8.62it/s]              \n",
            "mkl-service-2.3.0    |  208 KB | : 100% 1.0/1 [00:00<00:00, 16.92it/s]\n",
            "intel-openmp-2020.0  |  916 KB | : 100% 1.0/1 [00:00<00:00,  5.70it/s]               \n",
            "pip-20.0.2           |  1.9 MB | : 100% 1.0/1 [00:00<00:00,  1.78it/s]               \n",
            "python-3.6.6         | 29.4 MB | : 100% 1.0/1 [00:04<00:00,  4.17s/it]               \n",
            "tsnecuda-2.1.0       | 35.9 MB | : 100% 1.0/1 [00:08<00:00,  8.20s/it]               \n",
            "blas-1.0             |    6 KB | : 100% 1.0/1 [00:00<00:00, 30.12it/s]\n",
            "openblas-0.2.19      |  3.0 MB | : 100% 1.0/1 [00:00<00:00,  1.51it/s]               \n",
            "_libgcc_mutex-0.1    |    3 KB | : 100% 1.0/1 [00:00<00:00, 50.25it/s]\n",
            "libgfortran-ng-7.3.0 |  1.3 MB | : 100% 1.0/1 [00:00<00:00,  3.75it/s]               \n",
            "cuda101-1.0          |    4 KB | : 100% 1.0/1 [00:01<00:00,  1.06s/it] \n",
            "mkl_fft-1.0.1        |  140 KB | : 100% 1.0/1 [00:00<00:00, 17.31it/s]\n",
            "libgcc-ng-9.1.0      |  8.1 MB | : 100% 1.0/1 [00:01<00:00,  1.49s/it]               \n",
            "libedit-3.1.20181209 |  188 KB | : 100% 1.0/1 [00:00<00:00, 12.20it/s]\n",
            "libopenblas-0.3.6    |  7.7 MB | : 100% 1.0/1 [00:01<00:00,  1.43s/it]               \n",
            "Preparing transaction: \\ \b\b| \b\b/ \b\bdone\n",
            "Verifying transaction: \\ \b\b| \b\b/ \b\b- \b\b\\ \b\b| \b\b/ \b\b- \b\b\\ \b\b| \b\b/ \b\b- \b\b\\ \b\b| \b\b/ \b\b- \b\b\\ \b\b| \b\b/ \b\b- \b\b\\ \b\b| \b\b/ \b\b- \b\b\\ \b\b| \b\b/ \b\b- \b\b\\ \b\b| \b\b/ \b\b- \b\b\\ \b\b| \b\b/ \b\b- \b\b\\ \b\b| \b\b/ \b\b- \b\b\\ \b\b| \b\b/ \b\bdone\n",
            "Executing transaction: \\ \b\b| \b\b/ \b\b- \b\b\\ \b\b| \b\b/ \b\b- \b\b\\ \b\b| \b\b/ \b\b- \b\b\\ \b\b| \b\b/ \b\b- \b\b\\ \b\b| \b\b/ \b\b- \b\b\\ \b\b| \b\b/ \b\b- \b\b\\ \b\b| \b\b/ \b\b- \b\b\\ \b\b| \b\b/ \b\b- \b\b\\ \b\b| \b\b/ \b\b- \b\b\\ \b\b| \b\b/ \b\b- \b\b\\ \b\b| \b\b/ \b\b- \b\b\\ \b\b| \b\b/ \b\b- \b\b\\ \b\b| \b\b/ \b\b- \b\b\\ \b\b| \b\b/ \b\b- \b\b\\ \b\b| \b\b/ \b\b- \b\b\\ \b\b| \b\b/ \b\b- \b\b\\ \b\b| \b\b/ \b\b- \b\b\\ \b\b| \b\b/ \b\b- \b\b\\ \b\b| \b\b/ \b\b- \b\b\\ \b\b| \b\b/ \b\b- \b\b\\ \b\b| \b\b/ \b\b- \b\b\\ \b\b| \b\b/ \b\b- \b\b\\ \b\b| \b\b/ \b\b- \b\b\\ \b\b| \b\b/ \b\b- \b\b\\ \b\b| \b\b/ \b\b- \b\b\\ \b\b| \b\b/ \b\b- \b\b\\ \b\b| \b\b/ \b\b- \b\b\\ \b\b| \b\b/ \b\b- \b\b\\ \b\b| \b\b/ \b\b- \b\b\\ \b\b| \b\b/ \b\b- \b\b\\ \b\b| \b\b/ \b\b- \b\b\\ \b\b| \b\b/ \b\b- \b\b\\ \b\b| \b\b/ \b\b- \b\b\\ \b\b| \b\b/ \b\b- \b\b\\ \b\b| \b\b/ \b\b- \b\b\\ \b\b| \b\b/ \b\b- \b\b\\ \b\b| \b\b/ \b\b- \b\b\\ \b\b| \b\b/ \b\b- \b\b\\ \b\b| \b\b/ \b\b- \b\b\\ \b\b| \b\b/ \b\b- \b\b\\ \b\b| \b\b/ \b\b- \b\b\\ \b\b| \b\b/ \b\b- \b\b\\ \b\b| \b\b/ \b\b- \b\b\\ \b\b| \b\b/ \b\b- \b\b\\ \b\b| \b\b/ \b\b- \b\b\\ \b\b| \b\b/ \b\b- \b\b\\ \b\b| \b\b/ \b\b- \b\b\\ \b\b| \b\b/ \b\b- \b\b\\ \b\b| \b\b/ \b\b- \b\b\\ \b\b| \b\b/ \b\b- \b\b\\ \b\b| \b\b/ \b\b- \b\b\\ \b\b| \b\b/ \b\b- \b\b\\ \b\b| \b\b/ \b\b- \b\b\\ \b\b| \b\b/ \b\b- \b\b\\ \b\b| \b\b/ \b\b- \b\b\\ \b\b| \b\b/ \b\b- \b\b\\ \b\b| \b\b/ \b\b- \b\b\\ \b\b| \b\b/ \b\b- \b\b\\ \b\b| \b\b/ \b\b- \b\b\\ \b\b| \b\b/ \b\b- \b\b\\ \b\b| \b\b/ \b\b- \b\b\\ \b\b| \b\b/ \b\b- \b\b\\ \b\b| \b\b/ \b\b- \b\b\\ \b\b| \b\b/ \b\b- \b\b\\ \b\b| \b\b/ \b\b- \b\b\\ \b\b| \b\b/ \b\b- \b\b\\ \b\b| \b\b/ \b\b- \b\b\\ \b\b| \b\b/ \b\b- \b\b\\ \b\b| \b\b/ \b\b- \b\b\\ \b\b| \b\b/ \b\b- \b\b\\ \b\b| \b\b/ \b\b- \b\b\\ \b\b| \b\b/ \b\b- \b\b\\ \b\b| \b\b/ \b\b- \b\b\\ \b\b| \b\b/ \b\b- \b\b\\ \b\b| \b\b/ \b\b- \b\b\\ \b\b| \b\b/ \b\b- \b\b\\ \b\b| \b\b/ \b\b- \b\b\\ \b\b| \b\b/ \b\b- \b\b\\ \b\b| \b\b/ \b\b- \b\b\\ \b\b| \b\b/ \b\b- \b\b\\ \b\b| \b\b/ \b\b- \b\b\\ \b\b| \b\b/ \b\b- \b\b\\ \b\b| \b\b/ \b\b- \b\b\\ \b\b| \b\b/ \b\b- \b\b\\ \b\b| \b\b/ \b\b- \b\b\\ \b\b| \b\b/ \b\b- \b\b\\ \b\b| \b\b/ \b\b- \b\b\\ \b\b| \b\b/ \b\b- \b\b\\ \b\b| \b\b/ \b\b- \b\b\\ \b\b| \b\b/ \b\b- \b\b\\ \b\b| \b\b/ \b\b- \b\b\\ \b\b| \b\b/ \b\b- \b\b\\ \b\b| \b\b/ \b\b- \b\b\\ \b\b| \b\b/ \b\b- \b\b\\ \b\b| \b\b/ \b\b- \b\b\\ \b\b| \b\b/ \b\b- \b\b\\ \b\b| \b\b/ \b\b- \b\b\\ \b\b| \b\b/ \b\b- \b\b\\ \b\b| \b\b/ \b\b- \b\b\\ \b\b| \b\b/ \b\b- \b\b\\ \b\b| \b\b/ \b\b- \b\b\\ \b\b| \b\b/ \b\b- \b\b\\ \b\b| \b\b/ \b\b- \b\b\\ \b\b| \b\b/ \b\b- \b\b\\ \b\b| \b\b/ \b\b- \b\b\\ \b\b| \b\b/ \b\b- \b\b\\ \b\b| \b\b/ \b\b- \b\b\\ \b\b| \b\b/ \b\b- \b\b\\ \b\b| \b\b/ \b\b- \b\b\\ \b\b| \b\b/ \b\b- \b\b\\ \b\b| \b\b/ \b\b- \b\b\\ \b\b| \b\b/ \b\bdone\n"
          ],
          "name": "stdout"
        }
      ]
    },
    {
      "cell_type": "code",
      "metadata": {
        "id": "R6PG5Vzy18SX",
        "colab_type": "code",
        "outputId": "46250b94-d181-4e99-d884-4f6000a389cd",
        "colab": {
          "base_uri": "https://localhost:8080/",
          "height": 34
        }
      },
      "source": [
        "import numpy as np\n",
        "import pickle\n",
        "import time\n",
        "from datetime import datetime\n",
        "import re\n",
        "import os \n",
        "import io \n",
        "from os import path\n",
        "from os.path import join  \n",
        "from scipy.stats import *\n",
        "from sklearn.model_selection import train_test_split\n",
        "import matplotlib.pyplot as plt\n",
        "import copy\n",
        "from collections import defaultdict\n",
        "import time \n",
        "\n",
        "import requests\n",
        "import gzip\n",
        "import zipfile\n",
        "\n",
        "import torch\n",
        "import torch.nn as nn\n",
        "import torch.nn.functional as F\n",
        "import torch.optim as optim\n",
        "from torch.utils.data import Dataset, DataLoader\n",
        "import tsnecuda\n",
        "from tsnecuda import TSNE as TSNECUDA\n",
        "from waku.tasks.word_analogies.base import get_wordanalogy_scores\n",
        "\n",
        "torch.manual_seed(0)\n",
        "\n",
        "device = torch.device(\"cuda\" if torch.cuda.is_available() else \"cpu\")\n",
        "print(\"Device used: \", device)\n",
        "\n",
        "#TSNE code must be run on CUDA\n",
        "if 'cuda' not in str(device):\n",
        "  raise ValueError(\"This code must be run on a GPU\")"
      ],
      "execution_count": 12,
      "outputs": [
        {
          "output_type": "stream",
          "text": [
            "Device used:  cuda\n"
          ],
          "name": "stdout"
        }
      ]
    },
    {
      "cell_type": "markdown",
      "metadata": {
        "id": "_qLUYPn-N_fW",
        "colab_type": "text"
      },
      "source": [
        "## Word Sim"
      ]
    },
    {
      "cell_type": "code",
      "metadata": {
        "id": "2Rzaassb2PGU",
        "colab_type": "code",
        "colab": {}
      },
      "source": [
        "# read pickle file into dictionary\n",
        "def load_pickle(filepath):\n",
        "    # file path must end with .pickle\n",
        "    pickle_in = open(filepath,\"rb\")\n",
        "    emb_dict = pickle.load(pickle_in)\n",
        "    return emb_dict\n",
        "\n",
        "def loadSimilarlityData(sim_pairs_filepath, dataset):\n",
        "    \"\"\"dataset takes args 'SimLex999' or 'WordSim'\"\"\"\n",
        "    data = {}\n",
        "    tmp = open(sim_pairs_filepath).readlines()\n",
        "    \n",
        "    data['words'] = [row.strip().split('\\t')[0:2] for i, row in enumerate(tmp) if i!=0]\n",
        "\n",
        "    if dataset == 'SimLex999':\n",
        "        data['sim_scores'] = [float(row.strip().split('\\t')[3]) for i, row in enumerate(tmp) if i!=0]\n",
        "    elif dataset == 'WordSim':\n",
        "        data['sim_scores'] = [float(row.strip().split('\\t')[2]) for i, row in enumerate(tmp) if i!=0]\n",
        "    else:\n",
        "        raise ValueError('invalid dataset')\n",
        "\n",
        "    return data\n",
        "\n",
        "def get_embedding_word_vector_dict(dict_pickle_path, embedding_npz_path, is_spine=False):\n",
        "    \"\"\"loads ditionary of word to embedding vector \"\"\"\n",
        "    emb_dict = load_pickle(dict_pickle_path)    \n",
        "    if is_spine:\n",
        "        emb_weight = np.load(embedding_npz_path)['arr_0']\n",
        "    else:\n",
        "        emb_weight = np.load(embedding_npz_path)['a']\n",
        "\n",
        "    word_vec_dict = {}\n",
        "\n",
        "    for key, value in emb_dict.items():\n",
        "        word_vec_dict[key] = emb_weight[value]\n",
        "    \n",
        "    return word_vec_dict\n",
        "\n",
        "\n",
        "def getSimilarity(e1, e2):\n",
        "    \"\"\"computes cosine similarity (cosine of angle between embedding vectors)\"\"\"\n",
        "    if (np.sqrt(np.sum(e1*e1)) * np.sqrt(np.sum(e2*e2))) == 0:\n",
        "        return -1\n",
        "    else:\n",
        "        return np.sum(e1 * e2)/( np.sqrt(np.sum(e1*e1)) * np.sqrt(np.sum(e2*e2)))\n",
        " \n",
        "def getSimilarityScoreForWords(word_vec_dict, w1,w2):\n",
        "    if (w2 not in word_vec_dict) or (w1 not in word_vec_dict):\n",
        "        return -1\n",
        "    else:\n",
        "        finalVector_w1 = word_vec_dict[w1]\n",
        "        finalVector_w2 = word_vec_dict[w2]\n",
        "        return getSimilarity(finalVector_w1, finalVector_w2)\n",
        "\n",
        "def evaluate(dict_pickle_path, embedding_npz_path, sim_data, is_spine, verbose=False):\n",
        "    word_vec_dict = get_embedding_word_vector_dict(dict_pickle_path, embedding_npz_path, is_spine)\n",
        "\n",
        "    pred_scores = []\n",
        "    invalid = 0\n",
        "\n",
        "    # loop through human annotated data, returning matrix where col 0 is cosine similarity of embeddings, and col 1 is human score\n",
        "    pred_scores = [[getSimilarityScoreForWords(word_vec_dict, w1w2[0],w1w2[1]), human_score] for w1w2, human_score in zip(sim_data['words'], sim_data['sim_scores'])]\n",
        "\n",
        "    # delete word pairs which couldn't be found in embedding set\n",
        "    pred_scores = np.array( [ val for val in pred_scores if val[0] != -1])\n",
        "\n",
        "    sp_rank_coeff, sp_rho = spearmanr(pred_scores[:,0], pred_scores[:,1])\n",
        "    \n",
        "    if verbose:\n",
        "        print(\"total, valid, spearman_rank_coeff, sp_rho\", len(sim_data['words']),len(pred_scores), sp_rank_coeff, sp_rho)\n",
        "    return sp_rank_coeff, sp_rho"
      ],
      "execution_count": 0,
      "outputs": []
    },
    {
      "cell_type": "markdown",
      "metadata": {
        "id": "36UhkWivOL4h",
        "colab_type": "text"
      },
      "source": [
        "## Word Intrusion"
      ]
    },
    {
      "cell_type": "code",
      "metadata": {
        "id": "r10XCMd5ONiR",
        "colab_type": "code",
        "colab": {}
      },
      "source": [
        "def inter_dist(W, b, k):\n",
        "    assert W.shape[0] == k\n",
        "\n",
        "    dist = 0\n",
        "    for i in range(k):\n",
        "        dist += np.linalg.norm(W[i,:] - b)\n",
        "\n",
        "    return dist/k\n",
        "\n",
        "def intra_dist(W, k):\n",
        "    assert W.shape[0] == k\n",
        "\n",
        "    dist = 0\n",
        "    for i in range(k):\n",
        "        for j in range(k):\n",
        "            if j != i:\n",
        "                dist += np.linalg.norm(W[i,:] - W[j,:])\n",
        "    \n",
        "    return dist/(k*(k-1))\n",
        "\n",
        "def top_ten_set(embedding_weights):\n",
        "    D = embedding_weights.shape[1]\n",
        "    tenth = embedding_weights.shape[0]//10\n",
        "\n",
        "    top_list = set()\n",
        "    # get words that appear in the 10% of a dimension\n",
        "    for i in range(D):\n",
        "        indices = np.argsort(embedding_weights[:,i])[::-1]\n",
        "        top_list |= set(indices[:tenth])\n",
        "\n",
        "    return set(top_list)\n",
        "\n",
        "def dist_ratio(embedding_weights, top_list, k, N, print_result=True, save_acc=True, file_path=None):\n",
        "    D = embedding_weights.shape[1]\n",
        "    half = embedding_weights.shape[0]//2\n",
        "\n",
        "    scores = np.zeros(N)\n",
        "    \n",
        "    for run in range(N):\n",
        "        dist_ratio = 0\n",
        "        # calculate dist ratio\n",
        "        for i in range(D):\n",
        "            indices = np.argsort(embedding_weights[:,i])[::-1]\n",
        "            topk = indices[:k]\n",
        "            W = embedding_weights[topk,:]\n",
        "            \n",
        "            # pick intruder word\n",
        "            in_list = False\n",
        "            while in_list == False:\n",
        "                bottom_half = indices[half:]\n",
        "                intruder = np.random.choice(bottom_half)\n",
        "                in_list = intruder in top_list\n",
        "            b = embedding_weights[intruder,:]\n",
        "\n",
        "            # calculate intra + inter dist\n",
        "            interDist = inter_dist(W, b, k)\n",
        "            intraDist = intra_dist(W, k)\n",
        "            \n",
        "            dist_ratio  += interDist/intraDist\n",
        "        \n",
        "        # store dist_ratio\n",
        "        scores[run] = dist_ratio/D\n",
        "    \n",
        "    results = {}\n",
        "    results['mean'] = np.mean(scores)\n",
        "    results['std'] = np.std(scores)\n",
        "\n",
        "    if print_result:\n",
        "        print(\"mean word intrusion: {}, std: {}\".format(results['mean'], results['std']))\n",
        "\n",
        "    if save_acc:\n",
        "        with open('{}/{}.txt'.format(file_path,'word_intrusion_' + str(datetime.now())), 'w') as out:\n",
        "            out.write(\"Mean word intrusion: {}, std: {}\".format(results['mean'], results['std']))\n",
        "\n",
        "    return results"
      ],
      "execution_count": 0,
      "outputs": []
    },
    {
      "cell_type": "markdown",
      "metadata": {
        "id": "SpGK3SvMOE_Q",
        "colab_type": "text"
      },
      "source": [
        "## Sentiment Analysis"
      ]
    },
    {
      "cell_type": "markdown",
      "metadata": {
        "id": "ZzqxpQ3Z18Sf",
        "colab_type": "text"
      },
      "source": [
        "Sentiment analysis experiment:"
      ]
    },
    {
      "cell_type": "code",
      "metadata": {
        "id": "YPdZSn92Oba4",
        "colab_type": "code",
        "colab": {}
      },
      "source": [
        "# read pickle file into dictionary\n",
        "def load_pickle(filepath):\n",
        "    # file path must end with .pickle\n",
        "    pickle_in = open(filepath,\"rb\")\n",
        "    emb_dict = pickle.load(pickle_in)\n",
        "    return emb_dict\n",
        "\n",
        "\n",
        "# helper function to download the data and pretrained embeddings\n",
        "def downloadFile(url,filepath) :\n",
        "    if not path.exists(filepath) :\n",
        "        with requests.get(url) as r :\n",
        "            open(filepath, 'wb').write(r.content)\n",
        "    if filepath[-3:]=='.gz' :\n",
        "        if not path.exists(filepath[:-3]) :\n",
        "            with gzip.open(filepath) as gz :\n",
        "                open(filepath[:-3], 'wb').write(gz.read())\n",
        "    if filepath[-4:]=='.zip' :\n",
        "        if not path.exists(filepath[:-4]) :\n",
        "            with zipfile.ZipFile(filepath,'r') as zp :\n",
        "                zp.extractall()\n",
        "\n",
        "# format the data, extracting the sentence as\n",
        "# well as the sentiment of the entire sentence\n",
        "def ReadTextFile(filepath) :\n",
        "    y = []\n",
        "    X = []\n",
        "    with open(filepath) as r :\n",
        "        for line in r.read().split('\\n') :\n",
        "            #set_trace()\n",
        "            if len(line)==0 :\n",
        "                pass\n",
        "            else :\n",
        "                y.append(int(line[1]))\n",
        "                X.append([word[:-1].replace(')','') for word in line.split() if word[-1]==')'])\n",
        "            \n",
        "    return y, X\n",
        "\n",
        "def reduce_preprocess_embedding(x_train, x_val, x_test, embedding_dict, embedding_weights):\n",
        "    \"\"\"\n",
        "    Removes vocabulary and corresponding embeddings of unused words which are reintroduced later at test time\n",
        "    \"\"\"\n",
        "    n_dim = embedding_weights.shape[1]\n",
        "    w2vVocab = set(embedding_dict.keys())\n",
        "    dataVocab = set()\n",
        "    word2index = dict()\n",
        "\n",
        "    for i in range(len(x_train)):\n",
        "        dataVocab |= set(x_train[i])\n",
        "    for i in range(len(x_val)):\n",
        "        dataVocab |= set(x_val[i])\n",
        "    for i in range(len(x_test)):\n",
        "        dataVocab |= set(x_test[i])       \n",
        "        \n",
        "    print(\"size of vocab in dataset:\", len(dataVocab))\n",
        "    print(\"size of vocab in word2vec:\", len(w2vVocab))\n",
        "    # use the union between the data vocab and the word2vec vocab\n",
        "    dataInW2V = dataVocab & w2vVocab\n",
        "    print(\"size of vocab union between data and word2vec\", len(dataInW2V))\n",
        "\n",
        "    # for every word appearing in both datasets, copy the embedding into a new matrix\n",
        "    weights = torch.empty((len(dataInW2V)+2, n_dim))\n",
        "    for i, word in enumerate(dataInW2V):\n",
        "        word2index[word] = i+2\n",
        "        weights[i+2, :] = torch.from_numpy(embedding_weights[embedding_dict[word]])\n",
        "\n",
        "    # add a pad token\n",
        "    word2index[\"PAD\"] = 0\n",
        "    weights[0, :] = torch.zeros(1,n_dim)\n",
        "    # add an unknown word token\n",
        "    word2index[\"UNK\"] = 1\n",
        "    weights[1, :] = torch.from_numpy(embedding_weights[embedding_dict[\"UNK\"]])\n",
        "\n",
        "    print(\"tokens in new embedding matrix\", weights.shape[0])\n",
        "    weights = weights.to(device)\n",
        "\n",
        "    return  word2index, weights\n",
        "\n",
        "# function to convert a list of words into the corresponding \n",
        "# indices using the supplied dictionary\n",
        "def sentence2index(indexDict,sentence) :\n",
        "    idx = []\n",
        "    for word in sentence :\n",
        "        try :\n",
        "            idx.append(indexDict[word])\n",
        "        except:\n",
        "            idx.append(indexDict[\"UNK\"])\n",
        "\n",
        "    return torch.tensor(idx, dtype=torch.long)\n",
        "\n",
        "# function to combine data samples into a batch that the model can recieve\n",
        "def pad_collate(batch):\n",
        "    labels = torch.tensor([entry[0] for entry in batch])\n",
        "    text = [entry[1] for entry in batch]\n",
        "    # calculate the true lengths of each sequence\n",
        "    phrase_lengths = torch.LongTensor([len(sentence) for sentence in text])\n",
        "    # pad the sequences so that they are all of the same length to be processed\n",
        "    # by the rnn as a batch\n",
        "    text_pad = torch.nn.utils.rnn.pad_sequence(text, batch_first=True, padding_value=0)\n",
        "    return (text_pad, phrase_lengths), labels\n",
        "\n",
        "# custom dataset which processes the data using the defined functions,\n",
        "# ready to be used in a dataloader\n",
        "class sentenceDataset(Dataset):\n",
        "    def __init__(self, ys, Xs, indexDict):\n",
        "        self.y_train = ys\n",
        "        # convert the sentences of words into indexes\n",
        "        self.X_train = [sentence2index(indexDict, sentence) for sentence in Xs]\n",
        "        \n",
        "    def __len__(self):\n",
        "        return len(self.X_train)\n",
        "    \n",
        "    def __getitem__(self, idx):\n",
        "        return [self.y_train[idx], self.X_train[idx]]\n",
        "\n",
        "\"\"\"## Creating + training the model\"\"\"\n",
        "class LSTMLearner(nn.Module):\n",
        "    def __init__(self, embeddingDict, embeddingWeights, hidden_size=300, rnn_layers=1,\n",
        "                 mlp_layer_widths=100):\n",
        "        super(LSTMLearner, self).__init__()\n",
        "        #use the pretrained embeddings\n",
        "        self.n_dim = embeddingWeights.shape[1]\n",
        "        self.embedding = nn.Embedding.from_pretrained(embeddingWeights, freeze=True,\n",
        "                                                      padding_idx=embeddingDict[\"PAD\"])\n",
        "\n",
        "        # recurrent unit\n",
        "        self.rnn = nn.LSTM(self.n_dim, hidden_size, rnn_layers, batch_first=True, dropout=0.5)\n",
        "\n",
        "        # fully connexted layer\n",
        "        self.dropout = nn.Dropout(0.5)\n",
        "        self.fc1 = nn.Linear(hidden_size, mlp_layer_widths)\n",
        "        self.fc2 = nn.Linear(mlp_layer_widths, 5)\n",
        "\n",
        "    #pass data through all layers defined\n",
        "    def forward(self, x_padded, phrase_lengths):\n",
        "        x_embedded = self.embedding(x_padded)\n",
        "        x_packed = torch.nn.utils.rnn.pack_padded_sequence(x_embedded,\n",
        "                                                           phrase_lengths,\n",
        "                                                           batch_first=True, \n",
        "                                                           enforce_sorted=False)\n",
        "        \n",
        "        # pass through recurrent unit\n",
        "        _, (h_n, _) = self.rnn(x_packed)\n",
        "        \n",
        "        # since a \"pack_padded\" object is passed to the rnn, the output at the \n",
        "        # last timestep takes into account the different sentence lengths\n",
        "        out = h_n[-1]\n",
        "\n",
        "        # fully connected layers\n",
        "        out = self.dropout(F.relu(self.fc1(out)))\n",
        "        out = self.fc2(out)\n",
        "\n",
        "        return out\n",
        "\n",
        "# function to save model parameters, which is used in early stopping to save the model\n",
        "# at the epoch with best validation accuracy, before the model overfits the training data\n",
        "def save_checkpoint(state, ep, filename='checkpoint.pth.tar'):\n",
        "    \"\"\"Save checkpoint if a new best is achieved\"\"\"\n",
        "    print (\"=> Saving a new best at epoch:\", ep)\n",
        "    torch.save(state, filename)  # save checkpoint\n",
        "\n",
        "def trainModel(embeddings_dict, embeddings_weights, trainData, valData, epochs=25, learning_rate=0.001, \n",
        "               batch_size=512, hidden_size=300, rnn_layers=1, mlp_layer_widths=100):\n",
        "    \n",
        "    #create the data\n",
        "    dataLoad = DataLoader(trainData, batch_size=batch_size, shuffle=True,\n",
        "                          collate_fn=pad_collate)\n",
        "    valDataLoad = DataLoader(valData, batch_size=len(valData),\n",
        "                          collate_fn=pad_collate)\n",
        "    \n",
        "    # lists to store progress of the model at each epoch\n",
        "    epoch = 0\n",
        "    losses, valLosses, accuracy, valAccuracy = [], [], [], []\n",
        "\n",
        "    #copy weights & dict so original weight matrix isn't corrupted by a training run\n",
        "    weightsCopy = embeddings_weights.clone().detach()\n",
        "    dictCopy = embeddings_dict\n",
        "    # create an instance of the model\n",
        "    model = LSTMLearner(dictCopy, weightsCopy, hidden_size, rnn_layers, mlp_layer_widths)\n",
        "    # move the model to the gpu\n",
        "    model = model.to(device)\n",
        "    \n",
        "    # The question specifies using the cross entropy loss function\n",
        "    loss_function = nn.CrossEntropyLoss()\n",
        "    # AdamW was chosen as the optimiser as it seemed to work best \n",
        "    # with the short amount of exploration done\n",
        "    optimizer = optim.AdamW(filter(lambda p: p.requires_grad,\n",
        "                                   model.parameters()), lr=learning_rate)\n",
        "\n",
        "    for ep in range(epochs):\n",
        "        total_loss = 0\n",
        "        correct = 0\n",
        "        # set model to train mode so dropout and batch normalisation layers work as expected\n",
        "        model.train()\n",
        "\n",
        "        for _, ((text_pad, phrase_lengths), labels) in enumerate(dataLoad):\n",
        "            # move the data to the gpu\n",
        "            text_pad, phrase_lengths, labels = text_pad.to(device), phrase_lengths.to(device), labels.to(device)\n",
        "            model.zero_grad()\n",
        "            out = model(text_pad, phrase_lengths)\n",
        "            loss = loss_function(out, labels)\n",
        "            loss.backward()\n",
        "            optimizer.step()\n",
        "            total_loss += loss.item()*len(labels)\n",
        "            # make predictions using the argmax of the output layer\n",
        "            _, pred = out.max(1)\n",
        "            correct += (pred == labels).sum().item()\n",
        "            \n",
        "        #after each epoch, collect statistics\n",
        "        losses.append(total_loss/len(trainData))\n",
        "        accuracy.append(100*correct/len(trainData))\n",
        "        # statistics about the validation set\n",
        "        with torch.no_grad():\n",
        "            # set model to evaluation mode so dropout is no-longer used and all \n",
        "            # nodes of the model help in making the prediction\n",
        "            model.eval()\n",
        "            (text_pad, phrase_lengths), labels = next(iter(valDataLoad))\n",
        "            text_pad, phrase_lengths, labels = text_pad.to(device), phrase_lengths.to(device), labels.to(device)\n",
        "            out = model(text_pad, phrase_lengths)\n",
        "            valLosses.append(loss_function(out, labels).item() / len(valData))\n",
        "            _, pred = out.max(1)\n",
        "            valAccuracy.append(100*(pred == labels).sum().item()/len(valData))\n",
        "\n",
        "        #if validation improved, save new best model\n",
        "        # if valAccuracy[-1] == max(valAccuracy):\n",
        "        #     save_checkpoint(model.state_dict(), ep)\n",
        "        epoch += 1\n",
        "\n",
        "    #clean up\n",
        "    model = model.to(torch.device(\"cpu\"))\n",
        "    del text_pad, phrase_lengths, labels, out, _, pred, weightsCopy\n",
        "\n",
        "    return model, losses, valLosses, accuracy, valAccuracy\n",
        "\n",
        "def plot_model(accuracy, valAccuracy, losses, valLosses):\n",
        "    # epoch on which the best validation set accuracy occured\n",
        "    bestEpoch = np.argmax(valAccuracy)\n",
        "\n",
        "    # a plot of the loss as a function of epoch, with the epoch at which early \n",
        "    # stopping is performed marked with a red line\n",
        "    plt.figure(1)\n",
        "    plt.plot(losses, label=\"training set\")\n",
        "    plt.plot(valLosses, label=\"Validation set\")\n",
        "    plt.axvline(x=bestEpoch, color=\"r\", label=\"Early stopping epoch\")\n",
        "    plt.ylabel(\"Loss\")\n",
        "    plt.xlabel(\"Epoch\")\n",
        "    plt.legend()\n",
        "    plt.figure(2)\n",
        "    plt.plot(accuracy, label=\"training set\")\n",
        "    plt.plot(valAccuracy, label=\"Validation set\")\n",
        "    plt.axvline(x=bestEpoch, color=\"r\", label=\"Early stopping epoch\")\n",
        "    plt.ylabel(\"Accuracy\")\n",
        "    plt.xlabel(\"Epoch\")\n",
        "    plt.legend()\n",
        "\n",
        "\n",
        "def test_model(model, TestData, accuracy, valAccuracy, print_accuracies=True):\n",
        "  \n",
        "    with torch.no_grad():\n",
        "        testDataLoad = DataLoader(TestData, batch_size=len(TestData),\n",
        "                            collate_fn=pad_collate)\n",
        "        ((text_pad, phrase_lengths), labels) = next(iter(testDataLoad))\n",
        "        \n",
        "        bestModel = copy.deepcopy(model)\n",
        "        bestModel.load_state_dict(torch.load(\"checkpoint.pth.tar\", map_location=torch.device(\"cpu\")))\n",
        "\n",
        "        #set model to evaluation mode so dropout works as intended\n",
        "        bestModel.eval()\n",
        "        out = bestModel(text_pad, phrase_lengths)\n",
        "        _, pred = out.max(1)\n",
        "    \n",
        "    # epoch on which the best validation set accuracy occured\n",
        "    bestEpoch = np.argmax(valAccuracy)\n",
        "    \n",
        "    # Training and validation set accuracy at that epoch\n",
        "    bestAccuracy = {\"training set\":round(accuracy[bestEpoch], 2), \n",
        "                    \"validation set\":round(valAccuracy[bestEpoch], 2)}\n",
        "\n",
        "    bestAccuracy[\"test set\"] = round(100*(pred == labels).sum().item()/len(TestData), 2)\n",
        "    \n",
        "    if print_accuracies:\n",
        "        for k, v in bestAccuracy.items():\n",
        "            print(k, \": \", v)\n",
        "    \n",
        "    return bestAccuracy\n",
        "\n",
        "# comment about class\n",
        "class SST:\n",
        "    def __init__(self):\n",
        "        downloadFile('https://nlp.stanford.edu/sentiment/trainDevTestTrees_PTB.zip',\n",
        "             'trainDevTestTrees_PTB.zip')\n",
        "\n",
        "        self.y_train, self.X_train = ReadTextFile(\"./trees/train.txt\")\n",
        "        self.y_val, self.X_val = ReadTextFile(\"./trees/dev.txt\")\n",
        "        self.y_test, self.X_test = ReadTextFile(\"./trees/test.txt\")\n",
        "\n",
        "    def embed(self, embeddings_dict):\n",
        "        self.TrainData = sentenceDataset(self.y_train, self.X_train, embeddings_dict)\n",
        "        self.ValData = sentenceDataset(self.y_val, self.X_val, embeddings_dict)\n",
        "        self.TestData = sentenceDataset(self.y_test, self.X_test, embeddings_dict)\n",
        "    \n",
        "    def reset(self):\n",
        "        self.TrainData = None\n",
        "        self.ValData = None\n",
        "        self.TestData = None\n",
        "\n",
        "# comment about \n",
        "class Extrinsic_Sentiment_Analysis:\n",
        "    def __init__(self, SST, input_embedding_dict, input_embedding_weights):\n",
        "        \n",
        "        self.X_train = SST.X_train\n",
        "        self.X_val = SST.X_val\n",
        "        self.X_test = SST.X_test\n",
        "        self.input_embedding_dict = input_embedding_dict\n",
        "        self.input_embedding_weights = input_embedding_weights\n",
        "        \n",
        "        self.embedding_dict, self.embedding_weights = reduce_preprocess_embedding(self.X_train, self.X_val, self.X_test, input_embedding_dict, input_embedding_weights)\n",
        "\n",
        "        SST.embed(self.embedding_dict)\n",
        "        self.TrainData = SST.TrainData\n",
        "        self.ValData = SST.ValData\n",
        "        self.TestData = SST.TestData\n",
        "\n",
        "    def train(self,epochs=100, learning_rate=0.001, batch_size=512, hidden_size=300, rnn_layers=2, mlp_layer_widths=100):\n",
        "        \"\"\"train LSTM model using AdamW optimiser with cross-entropy loss\"\"\"\n",
        "        self.hidden_size = hidden_size\n",
        "        self.rnn_layers = rnn_layers\n",
        "        self.mlp_layer_widths = mlp_layer_widths\n",
        "\n",
        "        self.model, self.losses, self.valLosses, self.accuracy, self.valAccuracy = trainModel(self.embedding_dict, self.embedding_weights, self.TrainData, self.ValData,\n",
        "                                                                                epochs=epochs, learning_rate=learning_rate, batch_size=batch_size, rnn_layers=rnn_layers, \n",
        "                                                                                mlp_layer_widths=mlp_layer_widths)\n",
        "\n",
        "    def test(self, print_accuracies=True, save_test_acc=True, file_path=None):\n",
        "        try:\n",
        "            self.bestAccuracy = test_model(self.model, self.TestData, self.accuracy, self.valAccuracy, print_accuracies=True)\n",
        "        except:\n",
        "            raise ValueError('Model not trained')\n",
        "\n",
        "        if save_test_acc:\n",
        "            with open('{}/{}.txt'.format(file_path,'sentiment_analysis_' + str(datetime.now())), 'w') as out:\n",
        "                out.write(\"Test accuracy on SST: {}\".format(self.bestAccuracy[\"test set\"]))\n",
        "\n",
        "        if print_accuracies:\n",
        "            print(\"Test accuracy: {}\".format(self.bestAccuracy[\"test set\"]))\n",
        "\n",
        "\n",
        "    def plot(self):\n",
        "        try:\n",
        "            plot_model(self.accuracy, self.valAccuracy, self.losses, self.valLosses)\n",
        "        except:\n",
        "            raise ValueError('Model note trained')"
      ],
      "execution_count": 0,
      "outputs": []
    },
    {
      "cell_type": "markdown",
      "metadata": {
        "id": "yFo8qnTiIyhu",
        "colab_type": "text"
      },
      "source": [
        "## Word Analogies"
      ]
    },
    {
      "cell_type": "code",
      "metadata": {
        "id": "NtmI0k_iI3Af",
        "colab_type": "code",
        "colab": {}
      },
      "source": [
        "# def get_word_id(word, word2id, lower):\n",
        "#     \"\"\"\n",
        "#     Get a word ID.\n",
        "#     If the model does not use lowercase and the evaluation file is lowercased,\n",
        "#     we might be able to find an associated word.\n",
        "#     \"\"\"\n",
        "#     assert type(lower) is bool\n",
        "#     word_id = word2id.get(word)\n",
        "#     if word_id is None and not lower:\n",
        "#         word_id = word2id.get(word.capitalize())\n",
        "#     if word_id is None and not lower:\n",
        "#         word_id = word2id.get(word.title())\n",
        "#     return word_id\n",
        "\n",
        "# def get_wordanalogy_scores(dirpath, word2id, embeddings, lower, verbose = False):\n",
        "#     \"\"\"\n",
        "#     Return (english) word analogy score\n",
        "#     \"\"\"\n",
        "#     if not os.path.isdir(dirpath):\n",
        "#         raise ValueError(\"Could not find question-words.txt\")\n",
        "\n",
        "\n",
        "#     # normalize word embeddings\n",
        "#     row_sums = np.sqrt((embeddings ** 2).sum(1))[:, None]\n",
        "#     rows_with_zerosum = np.argwhere(row_sums == 0)\n",
        "#     embeddings = embeddings / np.sqrt((embeddings ** 2).sum(1))[:, None]\n",
        "\n",
        "#     if len(rows_with_zerosum) > 0: # set rows that have been turned to NaN back to 0\n",
        "#         embeddings[rows_with_zerosum[:,0],:] = 0\n",
        "#         print('Fixed NaNs from zero division')\n",
        "\n",
        "#     # scores by category\n",
        "#     scores = defaultdict(dict)\n",
        "\n",
        "#     word_ids = {}\n",
        "#     queries = {}\n",
        "\n",
        "#     num_examples_thrown = 0\n",
        "#     total_examples = 0\n",
        "#     with io.open(os.path.join(dirpath, 'questions-words.txt'), 'r', encoding='utf-8') as f:\n",
        "#         for line in f:\n",
        "#             # new line\n",
        "#             line = line.rstrip()\n",
        "#             if lower:\n",
        "#                 line = line.lower()\n",
        "\n",
        "#             # new category\n",
        "#             if \":\" in line:\n",
        "#                 assert line[1] == ' '\n",
        "#                 category = line[2:]\n",
        "#                 assert category not in scores\n",
        "#                 scores[category] = {'n_found': 0, 'n_not_found': 0, 'n_correct': 0}\n",
        "#                 word_ids[category] = []\n",
        "#                 queries[category] = []\n",
        "#                 continue\n",
        "\n",
        "#             # get word IDs\n",
        "#             assert len(line.split()) == 4, line\n",
        "#             word1, word2, word3, word4 = line.split()\n",
        "\n",
        "#             word_id1 = get_word_id(word1, word2id, lower)\n",
        "#             word_id2 = get_word_id(word2, word2id, lower)\n",
        "#             word_id3 = get_word_id(word3, word2id, lower)\n",
        "#             word_id4 = get_word_id(word4, word2id, lower)\n",
        "\n",
        "#             # if at least one word is not found\n",
        "#             if any(x is None for x in [word_id1, word_id2, word_id3, word_id4]):\n",
        "#                 scores[category]['n_not_found'] += 1\n",
        "#                 num_examples_thrown +=1 \n",
        "#                 continue\n",
        "#             else:\n",
        "#                 scores[category]['n_found'] += 1\n",
        "#                 word_ids[category].append([word_id1, word_id2, word_id3, word_id4])\n",
        "#                 # generate query vector and get nearest neighbors\n",
        "#                 query = embeddings[word_id1] - embeddings[word_id2] + embeddings[word_id4]\n",
        "#                 query = query / np.linalg.norm(query)\n",
        "\n",
        "#                 queries[category].append(query)\n",
        "#             total_examples += 1\n",
        "#     if verbose:\n",
        "#         print(\"Done scanning, threw {} examples out of {} total = {} % discarded\".format(num_examples_thrown, total_examples, float(num_examples_thrown)/total_examples * 100))\n",
        "    \n",
        "#     # Compute score for each category\n",
        "#     total_cats = len(queries)\n",
        "#     curr_cat = 0\n",
        "#     ROW_LIMIT = 500\n",
        "    \n",
        "#     overall_start_time = time.time()\n",
        "#     with torch.no_grad(): # make sure to not store computational graph info\n",
        "#       for cat in queries:\n",
        "\n",
        "#           start_time = time.time()\n",
        "\n",
        "#           qs_np = np.vstack(queries[cat])\n",
        "#           qs_shape = qs_np.shape\n",
        "          \n",
        "#           for i in range(0, qs_shape[0], ROW_LIMIT): #allocate matrices of size ROW LIMIT rows \n",
        "#             if i >= ROW_LIMIT:\n",
        "#               total_cats += 1 \n",
        "#             qs = torch.from_numpy(qs_np[i:i + ROW_LIMIT, :]).cuda()\n",
        "#             keys = torch.from_numpy(embeddings.T).cuda()\n",
        "#             values = qs.mm(keys)\n",
        "\n",
        "#             # free up memory \n",
        "#             del qs\n",
        "#             del keys \n",
        "#             torch.cuda.empty_cache()\n",
        "\n",
        "#             word_ids_tensor = torch.tensor(word_ids[cat]).cuda()\n",
        "#             curr_word_ids_tensor = word_ids_tensor[i:i+ROW_LIMIT, :]\n",
        "\n",
        "#             # be sure we do not select input words\n",
        "#             for j, ws in enumerate(curr_word_ids_tensor):\n",
        "#                 for wid in [ws[0], ws[1], ws[3]]:\n",
        "#                     values[j, wid] = -1e9\n",
        "#             maxes, indices = values.max(axis = 1)\n",
        "#             correct_indices = curr_word_ids_tensor[:, 2]\n",
        "#             num_correct = torch.sum(torch.eq(indices, correct_indices)).item()\n",
        "#             key = cat + \"_{}\".format(str(round(i/(ROW_LIMIT))))\n",
        "#             scores[key]['n_correct'] = num_correct\n",
        "\n",
        "#             curr_cat +=1 \n",
        "#             if verbose:\n",
        "#                 print('finished batch {} out of {}, took {} seconds'.format(curr_cat, total_cats, time.time() - start_time))\n",
        "            \n",
        "#             # clean up memory\n",
        "#             del values \n",
        "#             del word_ids_tensor\n",
        "#             del maxes\n",
        "#             del indices\n",
        "#             del correct_indices \n",
        "#             torch.cuda.empty_cache()\n",
        "#             # print(\"Current CUDA snapshot after del and empty cache at end of loop\", torch.cuda.memory_allocated())\n",
        "    \n",
        "#     overall_total_time = time.time() - overall_start_time\n",
        "#     # compute and log accuracies\n",
        "    \n",
        "#     total_correct = 0\n",
        "#     total_found = 0\n",
        "\n",
        "#     for k in sorted(scores.keys()):\n",
        "#         v = scores[k]\n",
        "#         total_correct += v['n_correct']\n",
        "#         total_found += v.get('n_found', 0)\n",
        "#     if verbose:\n",
        "#         print(\"total correct: {}, total found: {}\".format(total_correct, total_found))\n",
        "#     total_accuracy = float(total_correct)/total_found\n",
        "#     if verbose:\n",
        "#         print(\"total acc: {}\".format(total_accuracy))\n",
        "#     return scores, total_correct, total_found, total_accuracy, overall_total_time"
      ],
      "execution_count": 0,
      "outputs": []
    },
    {
      "cell_type": "code",
      "metadata": {
        "id": "n1TlmKCHXdko",
        "colab_type": "code",
        "colab": {}
      },
      "source": [
        ""
      ],
      "execution_count": 0,
      "outputs": []
    },
    {
      "cell_type": "markdown",
      "metadata": {
        "id": "NDLypUiKQRaO",
        "colab_type": "text"
      },
      "source": [
        "## Experiments"
      ]
    },
    {
      "cell_type": "code",
      "metadata": {
        "id": "eRyKYagJ18Sh",
        "colab_type": "code",
        "colab": {}
      },
      "source": [
        "def sentiment_analysis(embedding_dict, embedding_weights):\n",
        "    # Instantiate a *SST* to load Stanford Sentiment Treebank train/test/val data\n",
        "    SST_instance = SST()\n",
        "\n",
        "    # Load an instance of the *Extrinsic_Sentiment_Analysis* class with a given dictionary and \n",
        "    # weights at which point we reduce the vocabulary into words present in SST\n",
        "    Experiment = Extrinsic_Sentiment_Analysis(SST_instance, embedding_dict, embedding_weights)\n",
        "\n",
        "    # Train a specified LSTM model for a given number of epochs using the *train* function\n",
        "    Experiment.train(epochs=100, learning_rate=0.001, batch_size=512, hidden_size=300, rnn_layers=2, mlp_layer_widths=100)\n",
        "\n",
        "    # Calculate accuracy on the test set and save\n",
        "    Experiment.test(print_accuracies=True, save_test_acc=False, file_path=None)\n",
        "    \n",
        "    # reset data class\n",
        "    SST_instance.reset()\n",
        "    \n",
        "    return Experiment.bestAccuracy[\"test set\"]"
      ],
      "execution_count": 0,
      "outputs": []
    },
    {
      "cell_type": "code",
      "metadata": {
        "id": "JS5yGyDb18Sl",
        "colab_type": "code",
        "colab": {}
      },
      "source": [
        "def word_intrusion_experiment(embedding_weights, k, N):\n",
        "    top_ten = top_ten_set(embedding_weights)\n",
        "    results = dist_ratio(embedding_weights, top_ten, k, N, print_result=True, save_acc=False, file_path=None)\n",
        "    \n",
        "    return results['mean']"
      ],
      "execution_count": 0,
      "outputs": []
    },
    {
      "cell_type": "code",
      "metadata": {
        "id": "5P4Kn0pSLIZ8",
        "colab_type": "code",
        "colab": {}
      },
      "source": [
        "def word_analogy_experiment(embedding_dict, embedding_weights):\n",
        "  # path_to_questionwords_dataset = !find '/content/drive' -type d -name \"raw\"\n",
        "  # path_to_questionwords_dataset = path_to_questionwords_dataset[0]\n",
        "  path_to_questionwords_dataset = '../raw_data/'\n",
        "  scores, total_correct, total_found, total_accuracy, total_time = get_wordanalogy_scores(path_to_questionwords_dataset, embedding_dict, embedding_weights, True, verbose = False) # False means we have embeddings for uppercased words, True means embeddings for lowercase\n",
        "  return total_accuracy"
      ],
      "execution_count": 0,
      "outputs": []
    },
    {
      "cell_type": "code",
      "metadata": {
        "id": "_0DlrbgXXhYU",
        "colab_type": "code",
        "colab": {}
      },
      "source": [
        "def t_SNE(embedding_dict, embedding_weights):\n",
        "  # 2D\n",
        "  sample_indices = list(range(100,200))\n",
        "  sample_indices = []\n",
        "  sample_indices.extend([W2V_dict[i] for i in ['german', 'english', 'french', 'spanish', 'british', 'american', 'italian', 'indian', 'chinese', 'thai', 'mexican', 'canadian', 'greek', 'russian']])\n",
        "  sample_indices.extend([W2V_dict[name] for name in ['girl', 'boy', 'queen', 'king', 'man', 'woman', 'basketball', 'football', 'cat', 'dog', 'love', 'hate', 'son', 'daughter', 'country', 'city', 'state']])\n",
        "  sample_indices.extend([W2V_dict[name] for name in ['prince', 'princess', 'small', 'large', 'big', 'life', 'death']])\n",
        "  sample_indices.extend([W2V_dict[name] for name in ['university', 'school', 'college', 'teacher', 'math', 'algebra', 'calculus', 'history', 'art', 'science']])\n",
        "  sample_indices.extend([W2V_dict[name] for name in ['aries', 'taurus', 'gemini', 'cancer', 'leo', 'virgo', 'libra', 'scorpio', 'sagittarius', 'capricorn', 'aquarius', 'pisces']])\n",
        "  sample_indices.extend([W2V_dict[name] for name in ['bird', 'deer', 'bear', 'dog', 'cat', 'lion', 'frog', 'elephant', 'giraffe', 'fox', 'hippopotamus', 'monkey', 'turtle', 'snake', 'fish']])\n",
        "  sample_indices.extend([W2V_dict[name] for name in ['mom', 'dad', 'son', 'daughter', 'family', 'grandmother', 'grandfather', 'brother', 'sister']])\n",
        "\n",
        "  sample_indices = list(set(sample_indices))\n",
        "  index2word = {value: key for key, value in embedding_dict.items()}\n",
        "  subsample_weights = embedding_weights[sample_indices]\n",
        "  sub_mapping = [index2word[i] for i in sample_indices]\n",
        "  myFig = plot_tsne(subsample_weights, sub_mapping)\n",
        "  return myFig"
      ],
      "execution_count": 0,
      "outputs": []
    },
    {
      "cell_type": "code",
      "metadata": {
        "id": "qhfr8fcg18Sr",
        "colab_type": "code",
        "colab": {}
      },
      "source": [
        "def run_tasks(paths_list, is_spine):\n",
        "    scores = np.zeros(shape=(len(paths_list),9))\n",
        "\n",
        "    for i in range(len(paths_list)):\n",
        "        if is_spine:\n",
        "            embedding_weights = np.load(paths_list[i])['arr_0']\n",
        "        else:\n",
        "            embedding_weights = np.load(paths_list[i])['a']\n",
        "  \n",
        "        # sentiment analysis\n",
        "        tic = time.perf_counter()\n",
        "        sa_score = sentiment_analysis(embedding_dict, embedding_weights)\n",
        "        toc = time.perf_counter()\n",
        "        scores[i,1] = sa_score\n",
        "        scores[i,2] = toc-tic\n",
        "        print(\"Sentiment Score: \", sa_score)\n",
        "        # intrusion\n",
        "        tic = time.perf_counter()\n",
        "        intrusion_score = word_intrusion_experiment(embedding_weights, k=5, N=10)\n",
        "        toc = time.perf_counter()\n",
        "        scores[i,3] = intrusion_score\n",
        "        scores[i,4] = toc-tic\n",
        "        print(\"Intrusion Score: \", intrusion_score)\n",
        "\n",
        "        # similarlity\n",
        "        tic = time.perf_counter()\n",
        "        similarlity_score, _ = evaluate(dict_path, paths_list[i], pairs_data_SimLex, is_spine, verbose=False)\n",
        "        toc = time.perf_counter()\n",
        "        scores[i,5] = similarlity_score\n",
        "        scores[i,6] = toc-tic\n",
        "        print(\"Similarity Score: \", similarlity_score)\n",
        "\n",
        "        # analogy \n",
        "        tic = time.perf_counter()\n",
        "        wa_score = word_analogy_experiment(embedding_dict, embedding_weights)\n",
        "        toc = time.perf_counter()\n",
        "        scores[i,7] = wa_score\n",
        "        scores[i,8] = toc-tic\n",
        "        print(\"Analogy score: \", wa_score)\n",
        "\n",
        "\n",
        "    # np.save(EXPERIMENT_FOLDER_PATH+'/kush_results/hoyer_300_sparse_scores', scores)\n",
        "\n",
        "    return scores"
      ],
      "execution_count": 0,
      "outputs": []
    },
    {
      "cell_type": "code",
      "metadata": {
        "id": "k7fS2EIjCXPe",
        "colab_type": "code",
        "colab": {}
      },
      "source": [
        "def run_sa_tasks(paths_list, is_spine):\n",
        "    scores = np.zeros(shape=(len(paths_list),2))\n",
        "\n",
        "    for i in range(len(paths_list)):\n",
        "        if is_spine:\n",
        "            embedding_weights = np.load(paths_list[i])['arr_0']\n",
        "        else:\n",
        "            embedding_weights = np.load(paths_list[i])['a']\n",
        "\n",
        "        # sentiment analysis\n",
        "        tic = time.perf_counter()\n",
        "        sa_score = sentiment_analysis(embedding_dict, embedding_weights)\n",
        "        toc = time.perf_counter()\n",
        "        scores[i,0] = sa_score\n",
        "        scores[i,1] = toc-tic\n",
        "        print(\"Sentiment Score: \", sa_score)\n",
        "\n",
        "    return scores"
      ],
      "execution_count": 0,
      "outputs": []
    },
    {
      "cell_type": "code",
      "metadata": {
        "id": "cz-tDEAh18Sa",
        "colab_type": "code",
        "colab": {}
      },
      "source": [
        "# load using helper function\n",
        "dict_path = NLP_directory + '/word2vec_data/word2index.pickle'\n",
        "embedding_dict = load_pickle(dict_path)\n",
        "\n",
        "# vanilla paths\n",
        "vanilla_300_path = NLP_directory + '/word2vec_data/vanilla_47/300_0.0_embeddings.npz'\n",
        "vanilla_1000_path = NLP_directory + '/word2vec_data/vanilla_47/1000_0.0_embeddings.npz'\n",
        "\n",
        "# load similarlity pairs\n",
        "annotated_pairs_path_SimLex = NLP_directory + '/word_sim_val/SimLex-999.txt'\n",
        "pairs_data_SimLex = loadSimilarlityData(annotated_pairs_path_SimLex, 'SimLex999')\n",
        "annotated_pairs_path_WordSim = NLP_directory + '/word_sim_val/human_sim.txt'\n",
        "pairs_data_WordSim = loadSimilarlityData(annotated_pairs_path_WordSim, 'WordSim')\n",
        "\n",
        "# folder path for saving experiments\n",
        "EXPERIMENT_FOLDER_PATH = NLP_directory + '/kush_results/'"
      ],
      "execution_count": 0,
      "outputs": []
    },
    {
      "cell_type": "code",
      "metadata": {
        "id": "Dp6MZ7ONrKol",
        "colab_type": "code",
        "outputId": "3c8cda0e-676b-435b-da4a-c1d3d3f87051",
        "colab": {
          "base_uri": "https://localhost:8080/",
          "height": 136
        }
      },
      "source": [
        "# full_list = []\n",
        "# for pair in pairs_data_SimLex['words']:\n",
        "#     for word in pair:\n",
        "#         full_list.append(word)\n",
        "\n",
        "unique = list(set(embedding_dict.keys()))\n",
        "print(len(unique))\n",
        "\n",
        "small_pairs = []\n",
        "for pair in pairs_data_SimLex['words']:\n",
        "    count = 0\n",
        "    for word in pair:\n",
        "        if word in unique:\n",
        "            count += 1\n",
        "    if count == 2:\n",
        "        small_pairs.append(pair)\n",
        "    \n",
        "print(len(pairs_data_SimLex['words']))\n",
        "print(len(small_pairs)) \n",
        "print(len(small_pairs)/len(pairs_data_SimLex['words']))\n",
        "\n",
        "\n",
        "pairs_data_WordSim\n",
        "small_pairs_wordsim = []\n",
        "for pair in pairs_data_WordSim['words']:\n",
        "    count = 0\n",
        "    for word in pair:\n",
        "        if word in unique:\n",
        "            count += 1\n",
        "    if count == 2:\n",
        "        small_pairs_wordsim.append(pair)\n",
        "\n",
        "print(len(pairs_data_WordSim['words']))\n",
        "print(len(small_pairs_wordsim)) \n",
        "print(len(small_pairs_wordsim)/len(pairs_data_WordSim['words']))\n",
        "\n",
        "# freq_path = '/content/drive/My Drive/UCL_ML/NLP Class/word2vec_data/word_freq.pickle'\n",
        "# freq_dict = load_pickle(freq_path)\n",
        "\n",
        "# unique_freq = {}\n",
        "\n",
        "# for word in unique:\n",
        "#     try:\n",
        "#         freq = freq_dict[word]\n",
        "#     except:\n",
        "#         freq = 0\n",
        "#     unique_freq[word] = freq\n",
        "\n",
        "# small_freq_vocab = []\n",
        "# for key, value in unique_freq.items():\n",
        "#     if value > 120:\n",
        "#         small_freq_vocab.append(key)\n",
        "\n",
        "# print(len(small_freq_vocab))\n",
        "\n"
      ],
      "execution_count": 27,
      "outputs": [
        {
          "output_type": "stream",
          "text": [
            "135335\n",
            "999\n",
            "998\n",
            "0.998998998998999\n",
            "353\n",
            "333\n",
            "0.943342776203966\n"
          ],
          "name": "stdout"
        }
      ]
    },
    {
      "cell_type": "code",
      "metadata": {
        "id": "mOnoMJO9nnSO",
        "colab_type": "code",
        "colab": {}
      },
      "source": [
        "percents = [30, 50, 90]\n",
        "hoyer_001_300_paths = []\n",
        "hoyer_100_300_paths = []\n",
        "hoyer_001_36h_paths = []\n",
        "hoyer_100_36h_paths = []\n",
        "hoyer_1e05_1000_paths = []\n",
        "hoyer_001_1000_paths = []\n",
        "hoyer_1_1000_paths = []\n",
        "spine_300_paths = []\n",
        "spine_1000_paths = []\n",
        "hoyer_10_final = []\n",
        "hoyer_1e05_final = []\n",
        "\n",
        "# input_weight_paths.append(vanilla_300_path)\n",
        "for per in percents:\n",
        "    # hoyer_001_300_weights_filepath = NLP_directory + '/word2vec_data/300_0.01/'+'hs_300_'+str(per)+'percent_embeddings.npz'\n",
        "    # hoyer_001_300_paths.append(hoyer_001_300_weights_filepath)\n",
        "    # hoyer_old_weights_filepath = NLP_directory + '/word2vec_data/300_1.0/'+'hs_300_'+str(per)+'percent_embeddings.npz'\n",
        "    # hoyer_100_300_paths.append(hoyer_old_weights_filepath)\n",
        "\n",
        "    # hoyer_weights_filepath = NLP_directory + '/word2vec_data/300_0.01_36hours/'+'hs_300_'+str(per)+'percent_embeddings.npz'\n",
        "    # hoyer_001_36h_paths.append(hoyer_weights_filepath)\n",
        "    # hoyer_weights_filepath = NLP_directory + '/word2vec_data/300_1.0_36hours/'+'hs_300_'+str(per)+'percent_embeddings.npz'\n",
        "    # hoyer_100_36h_paths.append(hoyer_weights_filepath)\n",
        "\n",
        "    # hoyer_weights_filepath = NLP_directory + '/word2vec_data/1000_1e-05/'+'hs_1000_'+str(per)+'percent_embeddings.npz'\n",
        "    # hoyer_1e05_1000_paths.append(hoyer_weights_filepath)\n",
        "    # hoyer_weights_filepath = NLP_directory + '/word2vec_data/1000_1.0/'+'hs_1000_'+str(per)+'percent_embeddings.npz'\n",
        "    # hoyer_1_1000_paths.append(hoyer_weights_filepath)\n",
        "    hoyer_path = NLP_directory + '/final_embeds/'+'300_10.0_'+str(per)+'_embeddings.npz'\n",
        "    hoyer_10_final.append(hoyer_path)\n",
        "    hoyer_path = NLP_directory + '/final_embeds/'+'300_1e-05_'+str(per)+'_embeddings.npz'\n",
        "    hoyer_1e05_final.append(hoyer_path)\n",
        "\n",
        "    spine_weights_filepath = NLP_directory + '/spine_embeddings/47hours_final/'+'sp_300_'+str(per)+'percent_embeddings.npz'\n",
        "    spine_300_paths.append(spine_weights_filepath)\n",
        "    spine_1000_weights_filepath = NLP_directory + '/spine_embeddings/47hours_final/'+'sp_1000_'+str(per)+'percent_embeddings.npz'\n",
        "    spine_1000_paths.append(spine_1000_weights_filepath)"
      ],
      "execution_count": 0,
      "outputs": []
    },
    {
      "cell_type": "code",
      "metadata": {
        "id": "IjRf7hecE-SR",
        "colab_type": "code",
        "outputId": "43ac446b-5b7a-40dd-8713-e0951c94856f",
        "colab": {
          "base_uri": "https://localhost:8080/",
          "height": 476
        }
      },
      "source": [
        "hoyer_final_10_scores = run_sa_tasks(hoyer_10_final, False)\n",
        "np.save(EXPERIMENT_FOLDER_PATH+'hoyer_final_10_sa_scores', hoyer_final_10_scores)"
      ],
      "execution_count": 29,
      "outputs": [
        {
          "output_type": "stream",
          "text": [
            "size of vocab in dataset: 21699\n",
            "size of vocab in word2vec: 135335\n",
            "size of vocab union between data and word2vec 12636\n",
            "tokens in new embedding matrix 12638\n",
            "training set :  72.09\n",
            "validation set :  35.24\n",
            "test set :  23.26\n",
            "Test accuracy: 23.26\n",
            "Sentiment Score:  23.26\n",
            "size of vocab in dataset: 21699\n",
            "size of vocab in word2vec: 135335\n",
            "size of vocab union between data and word2vec 12636\n",
            "tokens in new embedding matrix 12638\n",
            "training set :  97.89\n",
            "validation set :  34.42\n",
            "test set :  23.26\n",
            "Test accuracy: 23.26\n",
            "Sentiment Score:  23.26\n",
            "size of vocab in dataset: 21699\n",
            "size of vocab in word2vec: 135335\n",
            "size of vocab union between data and word2vec 12636\n",
            "tokens in new embedding matrix 12638\n",
            "training set :  78.58\n",
            "validation set :  31.24\n",
            "test set :  23.26\n",
            "Test accuracy: 23.26\n",
            "Sentiment Score:  23.26\n"
          ],
          "name": "stdout"
        }
      ]
    },
    {
      "cell_type": "code",
      "metadata": {
        "id": "-9zHiocXrJFH",
        "colab_type": "code",
        "outputId": "e5a78782-9ff8-46b9-87b6-8c542d9bd07a",
        "colab": {
          "base_uri": "https://localhost:8080/",
          "height": 718
        }
      },
      "source": [
        "hoyer_final_1e05_scores = run_sa_tasks(hoyer_1e05_final, False)\n",
        "np.save(EXPERIMENT_FOLDER_PATH+'hoyer_final_1e05_sa_scores', hoyer_final_1e05_scores)"
      ],
      "execution_count": 30,
      "outputs": [
        {
          "output_type": "stream",
          "text": [
            "size of vocab in dataset: 21699\n",
            "size of vocab in word2vec: 135335\n",
            "size of vocab union between data and word2vec 12636\n",
            "tokens in new embedding matrix 12638\n",
            "training set :  61.65\n",
            "validation set :  37.97\n",
            "test set :  23.26\n",
            "Test accuracy: 23.26\n",
            "Sentiment Score:  23.26\n",
            "size of vocab in dataset: 21699\n",
            "size of vocab in word2vec: 135335\n",
            "size of vocab union between data and word2vec 12636\n",
            "tokens in new embedding matrix 12638\n",
            "training set :  97.18\n",
            "validation set :  35.42\n",
            "test set :  23.26\n",
            "Test accuracy: 23.26\n",
            "Sentiment Score:  23.26\n",
            "size of vocab in dataset: 21699\n",
            "size of vocab in word2vec: 135335\n",
            "size of vocab union between data and word2vec 12636\n",
            "tokens in new embedding matrix 12638\n"
          ],
          "name": "stdout"
        },
        {
          "output_type": "error",
          "ename": "KeyboardInterrupt",
          "evalue": "ignored",
          "traceback": [
            "\u001b[0;31m---------------------------------------------------------------------------\u001b[0m",
            "\u001b[0;31mKeyboardInterrupt\u001b[0m                         Traceback (most recent call last)",
            "\u001b[0;32m<ipython-input-30-398c713a7bdd>\u001b[0m in \u001b[0;36m<module>\u001b[0;34m()\u001b[0m\n\u001b[0;32m----> 1\u001b[0;31m \u001b[0mhoyer_final_1e05_scores\u001b[0m \u001b[0;34m=\u001b[0m \u001b[0mrun_sa_tasks\u001b[0m\u001b[0;34m(\u001b[0m\u001b[0mhoyer_1e05_final\u001b[0m\u001b[0;34m,\u001b[0m \u001b[0;32mFalse\u001b[0m\u001b[0;34m)\u001b[0m\u001b[0;34m\u001b[0m\u001b[0;34m\u001b[0m\u001b[0m\n\u001b[0m\u001b[1;32m      2\u001b[0m \u001b[0mnp\u001b[0m\u001b[0;34m.\u001b[0m\u001b[0msave\u001b[0m\u001b[0;34m(\u001b[0m\u001b[0mEXPERIMENT_FOLDER_PATH\u001b[0m\u001b[0;34m+\u001b[0m\u001b[0;34m'hoyer_final_1e05_sa_scores'\u001b[0m\u001b[0;34m,\u001b[0m \u001b[0mhoyer_final_1e05_scores\u001b[0m\u001b[0;34m)\u001b[0m\u001b[0;34m\u001b[0m\u001b[0;34m\u001b[0m\u001b[0m\n",
            "\u001b[0;32m<ipython-input-25-c345dbece7fc>\u001b[0m in \u001b[0;36mrun_sa_tasks\u001b[0;34m(paths_list, is_spine)\u001b[0m\n\u001b[1;32m     10\u001b[0m         \u001b[0;31m# sentiment analysis\u001b[0m\u001b[0;34m\u001b[0m\u001b[0;34m\u001b[0m\u001b[0;34m\u001b[0m\u001b[0m\n\u001b[1;32m     11\u001b[0m         \u001b[0mtic\u001b[0m \u001b[0;34m=\u001b[0m \u001b[0mtime\u001b[0m\u001b[0;34m.\u001b[0m\u001b[0mperf_counter\u001b[0m\u001b[0;34m(\u001b[0m\u001b[0;34m)\u001b[0m\u001b[0;34m\u001b[0m\u001b[0;34m\u001b[0m\u001b[0m\n\u001b[0;32m---> 12\u001b[0;31m         \u001b[0msa_score\u001b[0m \u001b[0;34m=\u001b[0m \u001b[0msentiment_analysis\u001b[0m\u001b[0;34m(\u001b[0m\u001b[0membedding_dict\u001b[0m\u001b[0;34m,\u001b[0m \u001b[0membedding_weights\u001b[0m\u001b[0;34m)\u001b[0m\u001b[0;34m\u001b[0m\u001b[0;34m\u001b[0m\u001b[0m\n\u001b[0m\u001b[1;32m     13\u001b[0m         \u001b[0mtoc\u001b[0m \u001b[0;34m=\u001b[0m \u001b[0mtime\u001b[0m\u001b[0;34m.\u001b[0m\u001b[0mperf_counter\u001b[0m\u001b[0;34m(\u001b[0m\u001b[0;34m)\u001b[0m\u001b[0;34m\u001b[0m\u001b[0;34m\u001b[0m\u001b[0m\n\u001b[1;32m     14\u001b[0m         \u001b[0mscores\u001b[0m\u001b[0;34m[\u001b[0m\u001b[0mi\u001b[0m\u001b[0;34m,\u001b[0m\u001b[0;36m0\u001b[0m\u001b[0;34m]\u001b[0m \u001b[0;34m=\u001b[0m \u001b[0msa_score\u001b[0m\u001b[0;34m\u001b[0m\u001b[0;34m\u001b[0m\u001b[0m\n",
            "\u001b[0;32m<ipython-input-20-9c2c59da4f3c>\u001b[0m in \u001b[0;36msentiment_analysis\u001b[0;34m(embedding_dict, embedding_weights)\u001b[0m\n\u001b[1;32m      8\u001b[0m \u001b[0;34m\u001b[0m\u001b[0m\n\u001b[1;32m      9\u001b[0m     \u001b[0;31m# Train a specified LSTM model for a given number of epochs using the *train* function\u001b[0m\u001b[0;34m\u001b[0m\u001b[0;34m\u001b[0m\u001b[0;34m\u001b[0m\u001b[0m\n\u001b[0;32m---> 10\u001b[0;31m     \u001b[0mExperiment\u001b[0m\u001b[0;34m.\u001b[0m\u001b[0mtrain\u001b[0m\u001b[0;34m(\u001b[0m\u001b[0mepochs\u001b[0m\u001b[0;34m=\u001b[0m\u001b[0;36m100\u001b[0m\u001b[0;34m,\u001b[0m \u001b[0mlearning_rate\u001b[0m\u001b[0;34m=\u001b[0m\u001b[0;36m0.001\u001b[0m\u001b[0;34m,\u001b[0m \u001b[0mbatch_size\u001b[0m\u001b[0;34m=\u001b[0m\u001b[0;36m512\u001b[0m\u001b[0;34m,\u001b[0m \u001b[0mhidden_size\u001b[0m\u001b[0;34m=\u001b[0m\u001b[0;36m300\u001b[0m\u001b[0;34m,\u001b[0m \u001b[0mrnn_layers\u001b[0m\u001b[0;34m=\u001b[0m\u001b[0;36m2\u001b[0m\u001b[0;34m,\u001b[0m \u001b[0mmlp_layer_widths\u001b[0m\u001b[0;34m=\u001b[0m\u001b[0;36m100\u001b[0m\u001b[0;34m)\u001b[0m\u001b[0;34m\u001b[0m\u001b[0;34m\u001b[0m\u001b[0m\n\u001b[0m\u001b[1;32m     11\u001b[0m \u001b[0;34m\u001b[0m\u001b[0m\n\u001b[1;32m     12\u001b[0m     \u001b[0;31m# Calculate accuracy on the test set and save\u001b[0m\u001b[0;34m\u001b[0m\u001b[0;34m\u001b[0m\u001b[0;34m\u001b[0m\u001b[0m\n",
            "\u001b[0;32m<ipython-input-17-c52380b97c04>\u001b[0m in \u001b[0;36mtrain\u001b[0;34m(self, epochs, learning_rate, batch_size, hidden_size, rnn_layers, mlp_layer_widths)\u001b[0m\n\u001b[1;32m    329\u001b[0m         self.model, self.losses, self.valLosses, self.accuracy, self.valAccuracy = trainModel(self.embedding_dict, self.embedding_weights, self.TrainData, self.ValData,\n\u001b[1;32m    330\u001b[0m                                                                                 \u001b[0mepochs\u001b[0m\u001b[0;34m=\u001b[0m\u001b[0mepochs\u001b[0m\u001b[0;34m,\u001b[0m \u001b[0mlearning_rate\u001b[0m\u001b[0;34m=\u001b[0m\u001b[0mlearning_rate\u001b[0m\u001b[0;34m,\u001b[0m \u001b[0mbatch_size\u001b[0m\u001b[0;34m=\u001b[0m\u001b[0mbatch_size\u001b[0m\u001b[0;34m,\u001b[0m \u001b[0mrnn_layers\u001b[0m\u001b[0;34m=\u001b[0m\u001b[0mrnn_layers\u001b[0m\u001b[0;34m,\u001b[0m\u001b[0;34m\u001b[0m\u001b[0;34m\u001b[0m\u001b[0m\n\u001b[0;32m--> 331\u001b[0;31m                                                                                 mlp_layer_widths=mlp_layer_widths)\n\u001b[0m\u001b[1;32m    332\u001b[0m \u001b[0;34m\u001b[0m\u001b[0m\n\u001b[1;32m    333\u001b[0m     \u001b[0;32mdef\u001b[0m \u001b[0mtest\u001b[0m\u001b[0;34m(\u001b[0m\u001b[0mself\u001b[0m\u001b[0;34m,\u001b[0m \u001b[0mprint_accuracies\u001b[0m\u001b[0;34m=\u001b[0m\u001b[0;32mTrue\u001b[0m\u001b[0;34m,\u001b[0m \u001b[0msave_test_acc\u001b[0m\u001b[0;34m=\u001b[0m\u001b[0;32mTrue\u001b[0m\u001b[0;34m,\u001b[0m \u001b[0mfile_path\u001b[0m\u001b[0;34m=\u001b[0m\u001b[0;32mNone\u001b[0m\u001b[0;34m)\u001b[0m\u001b[0;34m:\u001b[0m\u001b[0;34m\u001b[0m\u001b[0;34m\u001b[0m\u001b[0m\n",
            "\u001b[0;32m<ipython-input-17-c52380b97c04>\u001b[0m in \u001b[0;36mtrainModel\u001b[0;34m(embeddings_dict, embeddings_weights, trainData, valData, epochs, learning_rate, batch_size, hidden_size, rnn_layers, mlp_layer_widths)\u001b[0m\n\u001b[1;32m    217\u001b[0m             \u001b[0mtext_pad\u001b[0m\u001b[0;34m,\u001b[0m \u001b[0mphrase_lengths\u001b[0m\u001b[0;34m,\u001b[0m \u001b[0mlabels\u001b[0m \u001b[0;34m=\u001b[0m \u001b[0mtext_pad\u001b[0m\u001b[0;34m.\u001b[0m\u001b[0mto\u001b[0m\u001b[0;34m(\u001b[0m\u001b[0mdevice\u001b[0m\u001b[0;34m)\u001b[0m\u001b[0;34m,\u001b[0m \u001b[0mphrase_lengths\u001b[0m\u001b[0;34m.\u001b[0m\u001b[0mto\u001b[0m\u001b[0;34m(\u001b[0m\u001b[0mdevice\u001b[0m\u001b[0;34m)\u001b[0m\u001b[0;34m,\u001b[0m \u001b[0mlabels\u001b[0m\u001b[0;34m.\u001b[0m\u001b[0mto\u001b[0m\u001b[0;34m(\u001b[0m\u001b[0mdevice\u001b[0m\u001b[0;34m)\u001b[0m\u001b[0;34m\u001b[0m\u001b[0;34m\u001b[0m\u001b[0m\n\u001b[1;32m    218\u001b[0m             \u001b[0mout\u001b[0m \u001b[0;34m=\u001b[0m \u001b[0mmodel\u001b[0m\u001b[0;34m(\u001b[0m\u001b[0mtext_pad\u001b[0m\u001b[0;34m,\u001b[0m \u001b[0mphrase_lengths\u001b[0m\u001b[0;34m)\u001b[0m\u001b[0;34m\u001b[0m\u001b[0;34m\u001b[0m\u001b[0m\n\u001b[0;32m--> 219\u001b[0;31m             \u001b[0mvalLosses\u001b[0m\u001b[0;34m.\u001b[0m\u001b[0mappend\u001b[0m\u001b[0;34m(\u001b[0m\u001b[0mloss_function\u001b[0m\u001b[0;34m(\u001b[0m\u001b[0mout\u001b[0m\u001b[0;34m,\u001b[0m \u001b[0mlabels\u001b[0m\u001b[0;34m)\u001b[0m\u001b[0;34m.\u001b[0m\u001b[0mitem\u001b[0m\u001b[0;34m(\u001b[0m\u001b[0;34m)\u001b[0m \u001b[0;34m/\u001b[0m \u001b[0mlen\u001b[0m\u001b[0;34m(\u001b[0m\u001b[0mvalData\u001b[0m\u001b[0;34m)\u001b[0m\u001b[0;34m)\u001b[0m\u001b[0;34m\u001b[0m\u001b[0;34m\u001b[0m\u001b[0m\n\u001b[0m\u001b[1;32m    220\u001b[0m             \u001b[0m_\u001b[0m\u001b[0;34m,\u001b[0m \u001b[0mpred\u001b[0m \u001b[0;34m=\u001b[0m \u001b[0mout\u001b[0m\u001b[0;34m.\u001b[0m\u001b[0mmax\u001b[0m\u001b[0;34m(\u001b[0m\u001b[0;36m1\u001b[0m\u001b[0;34m)\u001b[0m\u001b[0;34m\u001b[0m\u001b[0;34m\u001b[0m\u001b[0m\n\u001b[1;32m    221\u001b[0m             \u001b[0mvalAccuracy\u001b[0m\u001b[0;34m.\u001b[0m\u001b[0mappend\u001b[0m\u001b[0;34m(\u001b[0m\u001b[0;36m100\u001b[0m\u001b[0;34m*\u001b[0m\u001b[0;34m(\u001b[0m\u001b[0mpred\u001b[0m \u001b[0;34m==\u001b[0m \u001b[0mlabels\u001b[0m\u001b[0;34m)\u001b[0m\u001b[0;34m.\u001b[0m\u001b[0msum\u001b[0m\u001b[0;34m(\u001b[0m\u001b[0;34m)\u001b[0m\u001b[0;34m.\u001b[0m\u001b[0mitem\u001b[0m\u001b[0;34m(\u001b[0m\u001b[0;34m)\u001b[0m\u001b[0;34m/\u001b[0m\u001b[0mlen\u001b[0m\u001b[0;34m(\u001b[0m\u001b[0mvalData\u001b[0m\u001b[0;34m)\u001b[0m\u001b[0;34m)\u001b[0m\u001b[0;34m\u001b[0m\u001b[0;34m\u001b[0m\u001b[0m\n",
            "\u001b[0;31mKeyboardInterrupt\u001b[0m: "
          ]
        }
      ]
    },
    {
      "cell_type": "code",
      "metadata": {
        "id": "j8ekkl1F2bMh",
        "colab_type": "code",
        "colab": {}
      },
      "source": [
        "# hoyer_001_300_scores = run_tasks(hoyer_001_300_paths, False)\n",
        "# np.save(EXPERIMENT_FOLDER_PATH+'hoyer_001_300_sparse_scores', hoyer_001_300_scores)"
      ],
      "execution_count": 0,
      "outputs": []
    },
    {
      "cell_type": "code",
      "metadata": {
        "id": "8CMBktQiNkoM",
        "colab_type": "code",
        "colab": {}
      },
      "source": [
        "# hoyer_100_300_scores = run_tasks(hoyer_100_300_paths, False)\n",
        "# np.save(EXPERIMENT_FOLDER_PATH+'hoyer_100_300_sparse_scores', hoyer_100_300_scores)"
      ],
      "execution_count": 0,
      "outputs": []
    },
    {
      "cell_type": "code",
      "metadata": {
        "id": "aHQX65b2K5Hc",
        "colab_type": "code",
        "colab": {}
      },
      "source": [
        "# hoyer_001_300_36h_scores = run_tasks(hoyer_001_36h_paths, False)\n",
        "# np.save(EXPERIMENT_FOLDER_PATH+'hoyer_001_300_36h_sparse_scores', hoyer_001_300_36h_scores)"
      ],
      "execution_count": 0,
      "outputs": []
    },
    {
      "cell_type": "code",
      "metadata": {
        "id": "5ZQnsVdHMCEc",
        "colab_type": "code",
        "colab": {}
      },
      "source": [
        "# hoyer_100_300_36h_scores = run_tasks(hoyer_100_36h_paths, False)\n",
        "# np.save(EXPERIMENT_FOLDER_PATH+'hoyer_100_300_36h_sparse_scores', hoyer_100_300_36h_scores)"
      ],
      "execution_count": 0,
      "outputs": []
    },
    {
      "cell_type": "code",
      "metadata": {
        "id": "XAH4ie5LcOPY",
        "colab_type": "code",
        "colab": {}
      },
      "source": [
        "# hoyer_1e05_1000_scores = run_tasks(hoyer_1e05_1000_paths, False)\n",
        "# np.save(EXPERIMENT_FOLDER_PATH+'hoyer_1e05_1000_sparse_scores', hoyer_1e05_1000_scores)"
      ],
      "execution_count": 0,
      "outputs": []
    },
    {
      "cell_type": "code",
      "metadata": {
        "id": "HxAVHVffcOlz",
        "colab_type": "code",
        "colab": {}
      },
      "source": [
        "# hoyer_1_1000_scores = run_tasks(hoyer_1_1000_paths, False)\n",
        "# np.save(EXPERIMENT_FOLDER_PATH+'hoyer_1_1000_sparse_scores', hoyer_1_1000_scores)"
      ],
      "execution_count": 0,
      "outputs": []
    },
    {
      "cell_type": "code",
      "metadata": {
        "id": "n6Np_pZncOsy",
        "colab_type": "code",
        "colab": {}
      },
      "source": [
        "# hoyer_001_1000_scores = run_tasks(hoyer_001_1000_paths, False)\n",
        "# np.save(EXPERIMENT_FOLDER_PATH+'hoyer_1_1000_sparse_scores', hoyer_001_1000_scores)"
      ],
      "execution_count": 0,
      "outputs": []
    },
    {
      "cell_type": "code",
      "metadata": {
        "id": "BlKZ0QH13HXN",
        "colab_type": "code",
        "colab": {}
      },
      "source": [
        "spine_300_scores = run_sa_tasks(spine_300_paths, True)\n",
        "np.save(EXPERIMENT_FOLDER_PATH+'spine_300_sparse_sa_scores', spine_300_scores)"
      ],
      "execution_count": 0,
      "outputs": []
    },
    {
      "cell_type": "code",
      "metadata": {
        "id": "-Uj5UviEgosi",
        "colab_type": "code",
        "colab": {
          "base_uri": "https://localhost:8080/",
          "height": 324
        },
        "outputId": "327b2cf2-eae7-4683-87a8-9b2afb0f7f07"
      },
      "source": [
        "spine_1000_scores = run_tasks(spine_1000_paths, True)\n",
        "np.save(EXPERIMENT_FOLDER_PATH+'spine_1000_sparse_scores', spine_1000_scores)"
      ],
      "execution_count": 31,
      "outputs": [
        {
          "output_type": "error",
          "ename": "KeyboardInterrupt",
          "evalue": "ignored",
          "traceback": [
            "\u001b[0;31m---------------------------------------------------------------------------\u001b[0m",
            "\u001b[0;31mKeyboardInterrupt\u001b[0m                         Traceback (most recent call last)",
            "\u001b[0;32m<ipython-input-31-949cd5bb26eb>\u001b[0m in \u001b[0;36m<module>\u001b[0;34m()\u001b[0m\n\u001b[0;32m----> 1\u001b[0;31m \u001b[0mspine_1000_scores\u001b[0m \u001b[0;34m=\u001b[0m \u001b[0mrun_tasks\u001b[0m\u001b[0;34m(\u001b[0m\u001b[0mspine_1000_paths\u001b[0m\u001b[0;34m,\u001b[0m \u001b[0;32mTrue\u001b[0m\u001b[0;34m)\u001b[0m\u001b[0;34m\u001b[0m\u001b[0;34m\u001b[0m\u001b[0m\n\u001b[0m\u001b[1;32m      2\u001b[0m \u001b[0mnp\u001b[0m\u001b[0;34m.\u001b[0m\u001b[0msave\u001b[0m\u001b[0;34m(\u001b[0m\u001b[0mEXPERIMENT_FOLDER_PATH\u001b[0m\u001b[0;34m+\u001b[0m\u001b[0;34m'spine_1000_sparse_scores'\u001b[0m\u001b[0;34m,\u001b[0m \u001b[0mspine_1000_scores\u001b[0m\u001b[0;34m)\u001b[0m\u001b[0;34m\u001b[0m\u001b[0;34m\u001b[0m\u001b[0m\n",
            "\u001b[0;32m<ipython-input-24-fddcfff87797>\u001b[0m in \u001b[0;36mrun_tasks\u001b[0;34m(paths_list, is_spine)\u001b[0m\n\u001b[1;32m      4\u001b[0m     \u001b[0;32mfor\u001b[0m \u001b[0mi\u001b[0m \u001b[0;32min\u001b[0m \u001b[0mrange\u001b[0m\u001b[0;34m(\u001b[0m\u001b[0mlen\u001b[0m\u001b[0;34m(\u001b[0m\u001b[0mpaths_list\u001b[0m\u001b[0;34m)\u001b[0m\u001b[0;34m)\u001b[0m\u001b[0;34m:\u001b[0m\u001b[0;34m\u001b[0m\u001b[0;34m\u001b[0m\u001b[0m\n\u001b[1;32m      5\u001b[0m         \u001b[0;32mif\u001b[0m \u001b[0mis_spine\u001b[0m\u001b[0;34m:\u001b[0m\u001b[0;34m\u001b[0m\u001b[0;34m\u001b[0m\u001b[0m\n\u001b[0;32m----> 6\u001b[0;31m             \u001b[0membedding_weights\u001b[0m \u001b[0;34m=\u001b[0m \u001b[0mnp\u001b[0m\u001b[0;34m.\u001b[0m\u001b[0mload\u001b[0m\u001b[0;34m(\u001b[0m\u001b[0mpaths_list\u001b[0m\u001b[0;34m[\u001b[0m\u001b[0mi\u001b[0m\u001b[0;34m]\u001b[0m\u001b[0;34m)\u001b[0m\u001b[0;34m[\u001b[0m\u001b[0;34m'arr_0'\u001b[0m\u001b[0;34m]\u001b[0m\u001b[0;34m\u001b[0m\u001b[0;34m\u001b[0m\u001b[0m\n\u001b[0m\u001b[1;32m      7\u001b[0m         \u001b[0;32melse\u001b[0m\u001b[0;34m:\u001b[0m\u001b[0;34m\u001b[0m\u001b[0;34m\u001b[0m\u001b[0m\n\u001b[1;32m      8\u001b[0m             \u001b[0membedding_weights\u001b[0m \u001b[0;34m=\u001b[0m \u001b[0mnp\u001b[0m\u001b[0;34m.\u001b[0m\u001b[0mload\u001b[0m\u001b[0;34m(\u001b[0m\u001b[0mpaths_list\u001b[0m\u001b[0;34m[\u001b[0m\u001b[0mi\u001b[0m\u001b[0;34m]\u001b[0m\u001b[0;34m)\u001b[0m\u001b[0;34m[\u001b[0m\u001b[0;34m'a'\u001b[0m\u001b[0;34m]\u001b[0m\u001b[0;34m\u001b[0m\u001b[0;34m\u001b[0m\u001b[0m\n",
            "\u001b[0;32m/usr/local/lib/python3.6/dist-packages/numpy/lib/npyio.py\u001b[0m in \u001b[0;36m__getitem__\u001b[0;34m(self, key)\u001b[0m\n\u001b[1;32m    260\u001b[0m                 return format.read_array(bytes,\n\u001b[1;32m    261\u001b[0m                                          \u001b[0mallow_pickle\u001b[0m\u001b[0;34m=\u001b[0m\u001b[0mself\u001b[0m\u001b[0;34m.\u001b[0m\u001b[0mallow_pickle\u001b[0m\u001b[0;34m,\u001b[0m\u001b[0;34m\u001b[0m\u001b[0;34m\u001b[0m\u001b[0m\n\u001b[0;32m--> 262\u001b[0;31m                                          pickle_kwargs=self.pickle_kwargs)\n\u001b[0m\u001b[1;32m    263\u001b[0m             \u001b[0;32melse\u001b[0m\u001b[0;34m:\u001b[0m\u001b[0;34m\u001b[0m\u001b[0;34m\u001b[0m\u001b[0m\n\u001b[1;32m    264\u001b[0m                 \u001b[0;32mreturn\u001b[0m \u001b[0mself\u001b[0m\u001b[0;34m.\u001b[0m\u001b[0mzip\u001b[0m\u001b[0;34m.\u001b[0m\u001b[0mread\u001b[0m\u001b[0;34m(\u001b[0m\u001b[0mkey\u001b[0m\u001b[0;34m)\u001b[0m\u001b[0;34m\u001b[0m\u001b[0;34m\u001b[0m\u001b[0m\n",
            "\u001b[0;32m/usr/local/lib/python3.6/dist-packages/numpy/lib/format.py\u001b[0m in \u001b[0;36mread_array\u001b[0;34m(fp, allow_pickle, pickle_kwargs)\u001b[0m\n\u001b[1;32m    775\u001b[0m                     \u001b[0mread_count\u001b[0m \u001b[0;34m=\u001b[0m \u001b[0mmin\u001b[0m\u001b[0;34m(\u001b[0m\u001b[0mmax_read_count\u001b[0m\u001b[0;34m,\u001b[0m \u001b[0mcount\u001b[0m \u001b[0;34m-\u001b[0m \u001b[0mi\u001b[0m\u001b[0;34m)\u001b[0m\u001b[0;34m\u001b[0m\u001b[0;34m\u001b[0m\u001b[0m\n\u001b[1;32m    776\u001b[0m                     \u001b[0mread_size\u001b[0m \u001b[0;34m=\u001b[0m \u001b[0mint\u001b[0m\u001b[0;34m(\u001b[0m\u001b[0mread_count\u001b[0m \u001b[0;34m*\u001b[0m \u001b[0mdtype\u001b[0m\u001b[0;34m.\u001b[0m\u001b[0mitemsize\u001b[0m\u001b[0;34m)\u001b[0m\u001b[0;34m\u001b[0m\u001b[0;34m\u001b[0m\u001b[0m\n\u001b[0;32m--> 777\u001b[0;31m                     \u001b[0mdata\u001b[0m \u001b[0;34m=\u001b[0m \u001b[0m_read_bytes\u001b[0m\u001b[0;34m(\u001b[0m\u001b[0mfp\u001b[0m\u001b[0;34m,\u001b[0m \u001b[0mread_size\u001b[0m\u001b[0;34m,\u001b[0m \u001b[0;34m\"array data\"\u001b[0m\u001b[0;34m)\u001b[0m\u001b[0;34m\u001b[0m\u001b[0;34m\u001b[0m\u001b[0m\n\u001b[0m\u001b[1;32m    778\u001b[0m                     array[i:i+read_count] = numpy.frombuffer(data, dtype=dtype,\n\u001b[1;32m    779\u001b[0m                                                              count=read_count)\n",
            "\u001b[0;32m/usr/local/lib/python3.6/dist-packages/numpy/lib/format.py\u001b[0m in \u001b[0;36m_read_bytes\u001b[0;34m(fp, size, error_template)\u001b[0m\n\u001b[1;32m    904\u001b[0m         \u001b[0;31m# done about that.  note that regular files can't be non-blocking\u001b[0m\u001b[0;34m\u001b[0m\u001b[0;34m\u001b[0m\u001b[0;34m\u001b[0m\u001b[0m\n\u001b[1;32m    905\u001b[0m         \u001b[0;32mtry\u001b[0m\u001b[0;34m:\u001b[0m\u001b[0;34m\u001b[0m\u001b[0;34m\u001b[0m\u001b[0m\n\u001b[0;32m--> 906\u001b[0;31m             \u001b[0mr\u001b[0m \u001b[0;34m=\u001b[0m \u001b[0mfp\u001b[0m\u001b[0;34m.\u001b[0m\u001b[0mread\u001b[0m\u001b[0;34m(\u001b[0m\u001b[0msize\u001b[0m \u001b[0;34m-\u001b[0m \u001b[0mlen\u001b[0m\u001b[0;34m(\u001b[0m\u001b[0mdata\u001b[0m\u001b[0;34m)\u001b[0m\u001b[0;34m)\u001b[0m\u001b[0;34m\u001b[0m\u001b[0;34m\u001b[0m\u001b[0m\n\u001b[0m\u001b[1;32m    907\u001b[0m             \u001b[0mdata\u001b[0m \u001b[0;34m+=\u001b[0m \u001b[0mr\u001b[0m\u001b[0;34m\u001b[0m\u001b[0;34m\u001b[0m\u001b[0m\n\u001b[1;32m    908\u001b[0m             \u001b[0;32mif\u001b[0m \u001b[0mlen\u001b[0m\u001b[0;34m(\u001b[0m\u001b[0mr\u001b[0m\u001b[0;34m)\u001b[0m \u001b[0;34m==\u001b[0m \u001b[0;36m0\u001b[0m \u001b[0;32mor\u001b[0m \u001b[0mlen\u001b[0m\u001b[0;34m(\u001b[0m\u001b[0mdata\u001b[0m\u001b[0;34m)\u001b[0m \u001b[0;34m==\u001b[0m \u001b[0msize\u001b[0m\u001b[0;34m:\u001b[0m\u001b[0;34m\u001b[0m\u001b[0;34m\u001b[0m\u001b[0m\n",
            "\u001b[0;32m/usr/lib/python3.6/zipfile.py\u001b[0m in \u001b[0;36mread\u001b[0;34m(self, n)\u001b[0m\n\u001b[1;32m    870\u001b[0m         \u001b[0mself\u001b[0m\u001b[0;34m.\u001b[0m\u001b[0m_offset\u001b[0m \u001b[0;34m=\u001b[0m \u001b[0;36m0\u001b[0m\u001b[0;34m\u001b[0m\u001b[0;34m\u001b[0m\u001b[0m\n\u001b[1;32m    871\u001b[0m         \u001b[0;32mwhile\u001b[0m \u001b[0mn\u001b[0m \u001b[0;34m>\u001b[0m \u001b[0;36m0\u001b[0m \u001b[0;32mand\u001b[0m \u001b[0;32mnot\u001b[0m \u001b[0mself\u001b[0m\u001b[0;34m.\u001b[0m\u001b[0m_eof\u001b[0m\u001b[0;34m:\u001b[0m\u001b[0;34m\u001b[0m\u001b[0;34m\u001b[0m\u001b[0m\n\u001b[0;32m--> 872\u001b[0;31m             \u001b[0mdata\u001b[0m \u001b[0;34m=\u001b[0m \u001b[0mself\u001b[0m\u001b[0;34m.\u001b[0m\u001b[0m_read1\u001b[0m\u001b[0;34m(\u001b[0m\u001b[0mn\u001b[0m\u001b[0;34m)\u001b[0m\u001b[0;34m\u001b[0m\u001b[0;34m\u001b[0m\u001b[0m\n\u001b[0m\u001b[1;32m    873\u001b[0m             \u001b[0;32mif\u001b[0m \u001b[0mn\u001b[0m \u001b[0;34m<\u001b[0m \u001b[0mlen\u001b[0m\u001b[0;34m(\u001b[0m\u001b[0mdata\u001b[0m\u001b[0;34m)\u001b[0m\u001b[0;34m:\u001b[0m\u001b[0;34m\u001b[0m\u001b[0;34m\u001b[0m\u001b[0m\n\u001b[1;32m    874\u001b[0m                 \u001b[0mself\u001b[0m\u001b[0;34m.\u001b[0m\u001b[0m_readbuffer\u001b[0m \u001b[0;34m=\u001b[0m \u001b[0mdata\u001b[0m\u001b[0;34m\u001b[0m\u001b[0;34m\u001b[0m\u001b[0m\n",
            "\u001b[0;32m/usr/lib/python3.6/zipfile.py\u001b[0m in \u001b[0;36m_read1\u001b[0;34m(self, n)\u001b[0m\n\u001b[1;32m    940\u001b[0m                 \u001b[0mdata\u001b[0m \u001b[0;34m+=\u001b[0m \u001b[0mself\u001b[0m\u001b[0;34m.\u001b[0m\u001b[0m_read2\u001b[0m\u001b[0;34m(\u001b[0m\u001b[0mn\u001b[0m \u001b[0;34m-\u001b[0m \u001b[0mlen\u001b[0m\u001b[0;34m(\u001b[0m\u001b[0mdata\u001b[0m\u001b[0;34m)\u001b[0m\u001b[0;34m)\u001b[0m\u001b[0;34m\u001b[0m\u001b[0;34m\u001b[0m\u001b[0m\n\u001b[1;32m    941\u001b[0m         \u001b[0;32melse\u001b[0m\u001b[0;34m:\u001b[0m\u001b[0;34m\u001b[0m\u001b[0;34m\u001b[0m\u001b[0m\n\u001b[0;32m--> 942\u001b[0;31m             \u001b[0mdata\u001b[0m \u001b[0;34m=\u001b[0m \u001b[0mself\u001b[0m\u001b[0;34m.\u001b[0m\u001b[0m_read2\u001b[0m\u001b[0;34m(\u001b[0m\u001b[0mn\u001b[0m\u001b[0;34m)\u001b[0m\u001b[0;34m\u001b[0m\u001b[0;34m\u001b[0m\u001b[0m\n\u001b[0m\u001b[1;32m    943\u001b[0m \u001b[0;34m\u001b[0m\u001b[0m\n\u001b[1;32m    944\u001b[0m         \u001b[0;32mif\u001b[0m \u001b[0mself\u001b[0m\u001b[0;34m.\u001b[0m\u001b[0m_compress_type\u001b[0m \u001b[0;34m==\u001b[0m \u001b[0mZIP_STORED\u001b[0m\u001b[0;34m:\u001b[0m\u001b[0;34m\u001b[0m\u001b[0;34m\u001b[0m\u001b[0m\n",
            "\u001b[0;32m/usr/lib/python3.6/zipfile.py\u001b[0m in \u001b[0;36m_read2\u001b[0;34m(self, n)\u001b[0m\n\u001b[1;32m    970\u001b[0m         \u001b[0mn\u001b[0m \u001b[0;34m=\u001b[0m \u001b[0mmin\u001b[0m\u001b[0;34m(\u001b[0m\u001b[0mn\u001b[0m\u001b[0;34m,\u001b[0m \u001b[0mself\u001b[0m\u001b[0;34m.\u001b[0m\u001b[0m_compress_left\u001b[0m\u001b[0;34m)\u001b[0m\u001b[0;34m\u001b[0m\u001b[0;34m\u001b[0m\u001b[0m\n\u001b[1;32m    971\u001b[0m \u001b[0;34m\u001b[0m\u001b[0m\n\u001b[0;32m--> 972\u001b[0;31m         \u001b[0mdata\u001b[0m \u001b[0;34m=\u001b[0m \u001b[0mself\u001b[0m\u001b[0;34m.\u001b[0m\u001b[0m_fileobj\u001b[0m\u001b[0;34m.\u001b[0m\u001b[0mread\u001b[0m\u001b[0;34m(\u001b[0m\u001b[0mn\u001b[0m\u001b[0;34m)\u001b[0m\u001b[0;34m\u001b[0m\u001b[0;34m\u001b[0m\u001b[0m\n\u001b[0m\u001b[1;32m    973\u001b[0m         \u001b[0mself\u001b[0m\u001b[0;34m.\u001b[0m\u001b[0m_compress_left\u001b[0m \u001b[0;34m-=\u001b[0m \u001b[0mlen\u001b[0m\u001b[0;34m(\u001b[0m\u001b[0mdata\u001b[0m\u001b[0;34m)\u001b[0m\u001b[0;34m\u001b[0m\u001b[0;34m\u001b[0m\u001b[0m\n\u001b[1;32m    974\u001b[0m         \u001b[0;32mif\u001b[0m \u001b[0;32mnot\u001b[0m \u001b[0mdata\u001b[0m\u001b[0;34m:\u001b[0m\u001b[0;34m\u001b[0m\u001b[0;34m\u001b[0m\u001b[0m\n",
            "\u001b[0;32m/usr/lib/python3.6/zipfile.py\u001b[0m in \u001b[0;36mread\u001b[0;34m(self, n)\u001b[0m\n\u001b[1;32m    727\u001b[0m                         \"Close the writing handle before trying to read.\")\n\u001b[1;32m    728\u001b[0m             \u001b[0mself\u001b[0m\u001b[0;34m.\u001b[0m\u001b[0m_file\u001b[0m\u001b[0;34m.\u001b[0m\u001b[0mseek\u001b[0m\u001b[0;34m(\u001b[0m\u001b[0mself\u001b[0m\u001b[0;34m.\u001b[0m\u001b[0m_pos\u001b[0m\u001b[0;34m)\u001b[0m\u001b[0;34m\u001b[0m\u001b[0;34m\u001b[0m\u001b[0m\n\u001b[0;32m--> 729\u001b[0;31m             \u001b[0mdata\u001b[0m \u001b[0;34m=\u001b[0m \u001b[0mself\u001b[0m\u001b[0;34m.\u001b[0m\u001b[0m_file\u001b[0m\u001b[0;34m.\u001b[0m\u001b[0mread\u001b[0m\u001b[0;34m(\u001b[0m\u001b[0mn\u001b[0m\u001b[0;34m)\u001b[0m\u001b[0;34m\u001b[0m\u001b[0;34m\u001b[0m\u001b[0m\n\u001b[0m\u001b[1;32m    730\u001b[0m             \u001b[0mself\u001b[0m\u001b[0;34m.\u001b[0m\u001b[0m_pos\u001b[0m \u001b[0;34m=\u001b[0m \u001b[0mself\u001b[0m\u001b[0;34m.\u001b[0m\u001b[0m_file\u001b[0m\u001b[0;34m.\u001b[0m\u001b[0mtell\u001b[0m\u001b[0;34m(\u001b[0m\u001b[0;34m)\u001b[0m\u001b[0;34m\u001b[0m\u001b[0;34m\u001b[0m\u001b[0m\n\u001b[1;32m    731\u001b[0m             \u001b[0;32mreturn\u001b[0m \u001b[0mdata\u001b[0m\u001b[0;34m\u001b[0m\u001b[0;34m\u001b[0m\u001b[0m\n",
            "\u001b[0;31mKeyboardInterrupt\u001b[0m: "
          ]
        }
      ]
    },
    {
      "cell_type": "code",
      "metadata": {
        "id": "BG9jRr332fqP",
        "colab_type": "code",
        "colab": {}
      },
      "source": [
        "vanilla_300_scores = run_sa_tasks([vanilla_300_path], is_spine=False)\n",
        "np.save(EXPERIMENT_FOLDER_PATH+'vanilla_300_sa_scores', vanilla_300_scores)"
      ],
      "execution_count": 0,
      "outputs": []
    },
    {
      "cell_type": "code",
      "metadata": {
        "id": "Uw56bA-OiS5P",
        "colab_type": "code",
        "colab": {}
      },
      "source": [
        "vanilla_1000_scores = run_sa_tasks([vanilla_1000_path], is_spine=False)\n",
        "np.save(EXPERIMENT_FOLDER_PATH+'vanilla_1000_sa_scores', vanilla_1000_scores)"
      ],
      "execution_count": 0,
      "outputs": []
    },
    {
      "cell_type": "markdown",
      "metadata": {
        "id": "jchvGwOX1CkY",
        "colab_type": "text"
      },
      "source": [
        "## Load saved scores and plot"
      ]
    },
    {
      "cell_type": "code",
      "metadata": {
        "id": "7XyEeP_10yYm",
        "colab_type": "code",
        "colab": {}
      },
      "source": [
        "# hoyer_001_300_scores = np.load(EXPERIMENT_FOLDER_PATH+'hoyer_001_300_sparse_scores'+'.npy')\n",
        "# hoyer_100_300_scores = np.load(EXPERIMENT_FOLDER_PATH+'hoyer_100_300_sparse_scores'+'.npy')\n",
        "\n",
        "# hoyer_001_300_36_scores = np.load(EXPERIMENT_FOLDER_PATH+'hoyer_001_300_36h_sparse_scores'+'.npy')\n",
        "# hoyer_100_300_36_scores = np.load(EXPERIMENT_FOLDER_PATH+'hoyer_100_300_36h_sparse_scores'+'.npy')\n",
        "\n",
        "# hoyer_1e05_1000_scores = np.load(EXPERIMENT_FOLDER_PATH+'hoyer_1e05_1000_sparse_scores'+'.npy')\n",
        "# # hoyer_001_1000_scores = np.load(EXPERIMENT_FOLDER_PATH+'hoyer_001_1000_sparse_scores'+'.npy')\n",
        "# hoyer_1_1000_scores = np.load(EXPERIMENT_FOLDER_PATH+'hoyer_1_1000_sparse_scores'+'.npy')\n",
        "\n",
        "hoyer_10_final_scores = np.load(EXPERIMENT_FOLDER_PATH+'hoyer_final_10_sa_scores'+'.npy')\n",
        "hoyer_1e05_final_scores = np.load(EXPERIMENT_FOLDER_PATH+'hoyer_final_1e05_sa_scores'+'.npy')\n",
        "\n",
        "spine_300_scores = np.load(EXPERIMENT_FOLDER_PATH+'spine_300_sparse_sa_scores'+'.npy')\n",
        "spine_1000_scores = np.load(EXPERIMENT_FOLDER_PATH+'spine_1000_sparse_scores'+'.npy')\n",
        "\n",
        "vanilla_300_scores = np.load(EXPERIMENT_FOLDER_PATH+'vanilla_300_sa_scores'+'.npy')\n",
        "vanilla_1000_scores = np.load(EXPERIMENT_FOLDER_PATH+'vanilla_1000_scores'+'.npy')"
      ],
      "execution_count": 0,
      "outputs": []
    },
    {
      "cell_type": "code",
      "metadata": {
        "id": "gINcAq7ym1y4",
        "colab_type": "code",
        "colab": {}
      },
      "source": [
        "vanilla_300_scores"
      ],
      "execution_count": 0,
      "outputs": []
    },
    {
      "cell_type": "code",
      "metadata": {
        "id": "uhrX6DCqFvfB",
        "colab_type": "code",
        "colab": {}
      },
      "source": [
        "print(spine_300_scores[:,3], spine_300_scores[:,4], spine_300_scores[:,1], spine_300_scores[:,2])"
      ],
      "execution_count": 0,
      "outputs": []
    },
    {
      "cell_type": "code",
      "metadata": {
        "id": "120OjxHYNtUM",
        "colab_type": "code",
        "colab": {}
      },
      "source": [
        "print(spine_300_scores[:,5], spine_300_scores[:,6], spine_300_scores[:,7], spine_300_scores[:,8])"
      ],
      "execution_count": 0,
      "outputs": []
    },
    {
      "cell_type": "markdown",
      "metadata": {
        "id": "dmfL-WKGP7L9",
        "colab_type": "text"
      },
      "source": [
        "## Old"
      ]
    },
    {
      "cell_type": "code",
      "metadata": {
        "id": "oLTALqkh7DYm",
        "colab_type": "code",
        "outputId": "149c08b3-466c-45e5-bc2e-d8444212ec8d",
        "colab": {
          "base_uri": "https://localhost:8080/",
          "height": 367
        }
      },
      "source": [
        "plt.figure(figsize=(10,5))\n",
        "plt.plot(vanilla_300_scores[0][0], vanilla_300_scores[0][1], 'm+', label='Vanilla 300')\n",
        "plt.plot(vanilla_1000_scores[0][0], vanilla_1000_scores[0][1], 'k+', label='Vanilla 1000')\n",
        "# plt.plot(percents, hoyer_001_300_scores[:,1], 'b', label='Hoyer 300 l=0.01')\n",
        "# plt.plot(percents, hoyer_100_300_scores[:,1], 'g', label='Hoyer 300 l=1')\n",
        "# plt.plot(percents, hoyer_1e05_1000_scores[:,1], label='Hoyer 1000 l=1e-05')\n",
        "# plt.plot(percents, hoyer_001_300_36_scores[:,1], label='Hoyer 300 l=0.01 36h')\n",
        "# plt.plot(percents, hoyer_100_300_36_scores[:,1], label='Hoyer 300 l=1 36h')\n",
        "plt.plot(percents, spine_300_scores[:,1], 'r', label='Spine 300')\n",
        "plt.plot(percents, spine_1000_scores[:,1], 'c', label='Spine 1000')\n",
        "plt.title('Sentiment Analysis Performance vs Sparsity')\n",
        "plt.xlabel('Sparsity (%)')\n",
        "plt.xticks(percents)\n",
        "plt.ylabel('Test set accuracy')\n",
        "plt.legend()\n",
        "plt.grid()\n",
        "plt.show()\n",
        "plt.savefig(EXPERIMENT_FOLDER_PATH+'fig1_sa.pdf')"
      ],
      "execution_count": 0,
      "outputs": [
        {
          "output_type": "display_data",
          "data": {
            "image/png": "[encoded data removed]",
            "text/plain": [
              "<Figure size 720x360 with 1 Axes>"
            ]
          },
          "metadata": {
            "tags": []
          }
        },
        {
          "output_type": "display_data",
          "data": {
            "text/plain": [
              "<Figure size 432x288 with 0 Axes>"
            ]
          },
          "metadata": {
            "tags": []
          }
        }
      ]
    },
    {
      "cell_type": "code",
      "metadata": {
        "id": "2zahh4Nv8Ib8",
        "colab_type": "code",
        "outputId": "f19de681-af17-46c6-9633-bbcc7c90e579",
        "colab": {
          "base_uri": "https://localhost:8080/",
          "height": 367
        }
      },
      "source": [
        "plt.figure(figsize=(10,5))\n",
        "plt.plot(vanilla_300_scores[0][0], vanilla_300_scores[0][3], 'm+', label='Vanilla 300')\n",
        "plt.plot(vanilla_1000_scores[0][0], vanilla_1000_scores[0][3], 'k+', label='Vanilla 1000')\n",
        "# plt.plot(percents, hoyer_001_300_scores[:,3], 'b', label='Hoyer 300 l=0.01')\n",
        "# plt.plot(percents, hoyer_100_300_scores[:,3], 'g', label='Hoyer 300 l=1')\n",
        "# plt.plot(percents, hoyer_1e05_1000_scores[:,3], label='Hoyer 1000 l=1e-05')\n",
        "# plt.plot(percents, hoyer_001_300_36_scores[:,3], label='Hoyer 300 l=0.01 36h')\n",
        "# plt.plot(percents, hoyer_100_300_36_scores[:,3], label='Hoyer 300 l=1 36h')\n",
        "plt.plot(percents, spine_300_scores[:,3], 'r', label='Spine 300')\n",
        "plt.plot(percents, spine_1000_scores[:,3], 'c', label='Spine 1000')\n",
        "plt.title('Word Intrustion (top 5 words) score for vs Sparsity')\n",
        "plt.xlabel('Sparsity (%)')\n",
        "plt.xticks(percents)\n",
        "plt.ylabel('Dist Ratio')\n",
        "plt.legend()\n",
        "plt.grid()\n",
        "plt.show()\n",
        "plt.savefig(EXPERIMENT_FOLDER_PATH+'fig2_intrusion.pdf')"
      ],
      "execution_count": 0,
      "outputs": [
        {
          "output_type": "display_data",
          "data": {
            "image/png": "[encoded data removed]",
            "text/plain": [
              "<Figure size 720x360 with 1 Axes>"
            ]
          },
          "metadata": {
            "tags": []
          }
        },
        {
          "output_type": "display_data",
          "data": {
            "text/plain": [
              "<Figure size 432x288 with 0 Axes>"
            ]
          },
          "metadata": {
            "tags": []
          }
        }
      ]
    },
    {
      "cell_type": "code",
      "metadata": {
        "id": "gImc-0Ar-JUk",
        "colab_type": "code",
        "outputId": "2f9f45be-09a6-49e7-e657-b52e92979b0d",
        "colab": {
          "base_uri": "https://localhost:8080/",
          "height": 370
        }
      },
      "source": [
        "plt.figure(figsize=(10,5))\n",
        "plt.plot(vanilla_300_scores[0][0], vanilla_300_scores[0][5], 'm+', label='Vanilla 300')\n",
        "plt.plot(vanilla_1000_scores[0][0], vanilla_1000_scores[0][5], 'k+', label='Vanilla 1000')\n",
        "# plt.plot(percents, hoyer_001_300_scores[:,5], 'b', label='Hoyer 300 l=0.01')\n",
        "# plt.plot(percents, hoyer_100_300_scores[:,5], 'g', label='Hoyer 300 l=1')\n",
        "# plt.plot(percents, hoyer_1e05_1000_scores[:,5], label='Hoyer 1000 l=1e-05')\n",
        "# plt.plot(percents, hoyer_001_300_36_scores[:,5], label='Hoyer 300 l=0.01 36h')\n",
        "# plt.plot(percents, hoyer_100_300_36_scores[:,5], label='Hoyer 300 l=1 36h')\n",
        "plt.plot(percents, spine_300_scores[:,5], 'r', label='Spine 300')\n",
        "plt.plot(percents, spine_1000_scores[:,5], 'c', label='Spine 1000')\n",
        "plt.title('Word Similarity score vs Sparsity Word2Vec Hoyer-Square $300$')\n",
        "plt.xlabel('Sparsity (%)')\n",
        "plt.xticks(percents)\n",
        "plt.ylabel('Spearman rank correlation')\n",
        "plt.legend()\n",
        "plt.grid()\n",
        "plt.show()\n",
        "plt.savefig(EXPERIMENT_FOLDER_PATH+'fig3_sim.pdf')"
      ],
      "execution_count": 0,
      "outputs": [
        {
          "output_type": "display_data",
          "data": {
            "image/png": "[encoded data removed]",
            "text/plain": [
              "<Figure size 720x360 with 1 Axes>"
            ]
          },
          "metadata": {
            "tags": []
          }
        },
        {
          "output_type": "display_data",
          "data": {
            "text/plain": [
              "<Figure size 432x288 with 0 Axes>"
            ]
          },
          "metadata": {
            "tags": []
          }
        }
      ]
    },
    {
      "cell_type": "code",
      "metadata": {
        "id": "-bX66fPQNVav",
        "colab_type": "code",
        "outputId": "52593464-7709-4914-9231-e605e64e96ed",
        "colab": {
          "base_uri": "https://localhost:8080/",
          "height": 370
        }
      },
      "source": [
        "plt.figure(figsize=(10,5))\n",
        "plt.plot(vanilla_300_scores[0][0], vanilla_300_scores[0][7], 'm+', label='Vanilla 300')\n",
        "plt.plot(vanilla_1000_scores[0][0], vanilla_1000_scores[0][7], 'k+', label='Vanilla 1000')\n",
        "# plt.plot(percents, hoyer_001_300_scores[:,7], 'b', label='Hoyer 300 l=0.01')\n",
        "# plt.plot(percents, hoyer_100_300_scores[:,7], 'g', label='Hoyer 300 l=1')\n",
        "# plt.plot(percents, hoyer_1e05_1000_scores[:,7], label='Hoyer 1000 l=1e-05')\n",
        "# plt.plot(percents, hoyer_001_300_36_scores[:,7], label='Hoyer 300 l=0.01 36h')\n",
        "# plt.plot(percents, hoyer_100_300_36_scores[:,7], label='Hoyer 300 l=1 36h')\n",
        "plt.plot(percents, spine_300_scores[:,7], 'r', label='Spine 300')\n",
        "plt.plot(percents, spine_1000_scores[:,7], 'c', label='Spine 1000')\n",
        "plt.title('Word Analogy Score vs Sparsity Word2Vec Hoyer-Square $300$')\n",
        "plt.xlabel('Sparsity (%)')\n",
        "plt.xticks(percents)\n",
        "plt.ylabel('Analogy Exact Match (%)')\n",
        "plt.legend()\n",
        "plt.grid()\n",
        "plt.show()\n",
        "plt.savefig(EXPERIMENT_FOLDER_PATH+'fig4_wa.pdf')"
      ],
      "execution_count": 0,
      "outputs": [
        {
          "output_type": "display_data",
          "data": {
            "image/png": "[encoded data removed]",
            "text/plain": [
              "<Figure size 720x360 with 1 Axes>"
            ]
          },
          "metadata": {
            "tags": []
          }
        },
        {
          "output_type": "display_data",
          "data": {
            "text/plain": [
              "<Figure size 432x288 with 0 Axes>"
            ]
          },
          "metadata": {
            "tags": []
          }
        }
      ]
    },
    {
      "cell_type": "markdown",
      "metadata": {
        "id": "QxQo_KCh4tOO",
        "colab_type": "text"
      },
      "source": [
        "## Intrusion test"
      ]
    },
    {
      "cell_type": "code",
      "metadata": {
        "id": "QaI7xOLa-aGU",
        "colab_type": "code",
        "colab": {}
      },
      "source": [
        "def intrusion_small(paths_list, is_spine, k):\n",
        "    scores = np.zeros(shape=(len(paths_list),7))\n",
        "\n",
        "    for i in range(len(paths_list)):\n",
        "        if is_spine:\n",
        "            embedding_weights = np.load(paths_list[i])['arr_0']\n",
        "        else:\n",
        "            embedding_weights = np.load(paths_list[i])['a']\n",
        "        \n",
        "        # intrusion\n",
        "        tic = time.perf_counter()\n",
        "        intrusion_score = word_intrusion_experiment(embedding_weights, k, N=10)\n",
        "        toc = time.perf_counter()\n",
        "        scores[i,3] = intrusion_score\n",
        "        scores[i,4] = toc-tic\n",
        "        print(intrusion_score)\n",
        "\n",
        "    return scores"
      ],
      "execution_count": 0,
      "outputs": []
    },
    {
      "cell_type": "code",
      "metadata": {
        "id": "89ybDx35xH2w",
        "colab_type": "code",
        "colab": {}
      },
      "source": [
        "paths = [hoyer_001_300_paths, hoyer_100_300_paths, [vanilla_300_path], [vanilla_1000_path], spine_300_paths, spine_1000_paths]\n",
        "labels = [False, False, False, False, True, True]\n",
        "names = ['hoyer001', 'hoyer100', 'vanilla300', 'vanilla1000', 'spine300', 'spine1000']\n",
        "\n",
        "for i in range(len(paths)):\n",
        "    scores = intrusion_small(paths[i], is_spine=labels[i], k=3)\n",
        "    np.save(EXPERIMENT_FOLDER_PATH+names[i], scores)"
      ],
      "execution_count": 0,
      "outputs": []
    },
    {
      "cell_type": "code",
      "metadata": {
        "id": "UewrKIR2yNaK",
        "colab_type": "code",
        "colab": {}
      },
      "source": [
        "names = ['hoyer001', 'hoyer100', 'vanilla300', 'vanilla1000', 'spine300', 'spine1000']\n",
        "file_names = []\n",
        "for i in range(len(names)):\n",
        "    file_names.append(EXPERIMENT_FOLDER_PATH+names[i]+'.npy')\n",
        "\n",
        "hoyer_001_300_intrusion = np.load(file_names[0])\n",
        "hoyer_100_300_intrusion = np.load(file_names[1])\n",
        "vanilla_300_intrusion = np.load(file_names[2])\n",
        "vanilla_1000_intrusion = np.load(file_names[3])\n",
        "spine_300_intrusion = np.load(file_names[4])\n",
        "spine_1000_intrusion = np.load(file_names[5])"
      ],
      "execution_count": 0,
      "outputs": []
    },
    {
      "cell_type": "code",
      "metadata": {
        "id": "nMdYh9NN31Fv",
        "colab_type": "code",
        "outputId": "4cb9bd05-2a02-40a8-9927-3316580b560c",
        "colab": {
          "base_uri": "https://localhost:8080/"
        }
      },
      "source": [
        "hoyer_001_300_intrusion"
      ],
      "execution_count": 0,
      "outputs": [
        {
          "output_type": "execute_result",
          "data": {
            "text/plain": [
              "array([[ 0.        ,  0.        ,  0.        ,  0.72447603, 46.60466031,\n",
              "         0.        ,  0.        ],\n",
              "       [ 0.        ,  0.        ,  0.        ,  0.72315176, 41.07722461,\n",
              "         0.        ,  0.        ],\n",
              "       [ 0.        ,  0.        ,  0.        ,  0.72334879, 31.73611289,\n",
              "         0.        ,  0.        ],\n",
              "       [ 0.        ,  0.        ,  0.        ,  0.73605402, 25.63005232,\n",
              "         0.        ,  0.        ],\n",
              "       [ 0.        ,  0.        ,  0.        ,  0.71552889, 15.61937351,\n",
              "         0.        ,  0.        ]])"
            ]
          },
          "metadata": {
            "tags": []
          },
          "execution_count": 49
        }
      ]
    },
    {
      "cell_type": "code",
      "metadata": {
        "id": "SxdPofjL16np",
        "colab_type": "code",
        "outputId": "3d413335-0bae-4f8d-9424-a859e629b1b2",
        "colab": {
          "base_uri": "https://localhost:8080/"
        }
      },
      "source": [
        "plt.figure(figsize=(10,5))\n",
        "plt.plot(vanilla_300_intrusion[0][0], vanilla_300_intrusion[0][3], 'm+', label='Vanilla 300')\n",
        "plt.plot(vanilla_1000_intrusion[0][0], vanilla_1000_intrusion[0][3], 'k+', label='Vanilla 1000')\n",
        "plt.plot(percents, hoyer_001_300_intrusion[:,3], 'b', label='Hoyer 300 l=0.01')\n",
        "plt.plot(percents, hoyer_100_300_intrusion[:,3], 'g', label='Hoyer 300 l=1')\n",
        "plt.plot(percents, spine_300_intrusion[:,3], 'r', label='Spine 300')\n",
        "plt.plot(percents, spine_1000_intrusion[:,3], 'c', label='Spine 1000')\n",
        "plt.title('Word Intrustion (top 3 words) score for vs Sparsity')\n",
        "plt.xlabel('Sparsity (%)')\n",
        "plt.xticks(percents)\n",
        "plt.ylabel('Dist Ratio')\n",
        "plt.legend()\n",
        "plt.grid()\n",
        "plt.show()"
      ],
      "execution_count": 0,
      "outputs": [
        {
          "output_type": "display_data",
          "data": {
            "image/png": "[encoded data removed]",
            "text/plain": [
              "<Figure size 720x360 with 1 Axes>"
            ]
          },
          "metadata": {
            "tags": []
          }
        }
      ]
    },
    {
      "cell_type": "markdown",
      "metadata": {
        "id": "1aZjOF12nCsb",
        "colab_type": "text"
      },
      "source": [
        "# t-SNE plot for Hoyer"
      ]
    },
    {
      "cell_type": "code",
      "metadata": {
        "id": "iS6Jhu7OnAqd",
        "colab_type": "code",
        "colab": {}
      },
      "source": [
        "def plot_tsne(X, mapping, n_iter=500, n_jobs = None):\n",
        "    tsne = TSNECUDA(n_components = 2)\n",
        "\n",
        "    fig = plt.figure(figsize=(30,30))\n",
        "    ax = fig.gca()\n",
        "    \n",
        "    trans = tsne.fit_transform(X)\n",
        "\n",
        "    coordinates = zip(*trans)\n",
        "    ax.scatter(*coordinates)\n",
        "\n",
        "    LABELSIZE = 30\n",
        "    for i in range(len(trans)):\n",
        "      ax.annotate(mapping[i], xy=trans[i], textcoords='data', size = LABELSIZE)\n",
        "    \n",
        "    plt.grid()\n",
        "    plt.show()\n",
        "\n",
        "    return fig"
      ],
      "execution_count": 0,
      "outputs": []
    },
    {
      "cell_type": "code",
      "metadata": {
        "id": "54TGVXe43xt-",
        "colab_type": "code",
        "colab": {}
      },
      "source": [
        "def t_SNE(embedding_dict, embedding_weights):\n",
        "  # 2D\n",
        "  sample_indices = list(range(100,200))\n",
        "  sample_indices = []\n",
        "  sample_indices.extend([embedding_dict[i] for i in ['german', 'english', 'french', 'spanish', 'british', 'american', 'italian', 'indian', 'chinese', 'thai', 'mexican', 'canadian', 'greek', 'russian']])\n",
        "  sample_indices.extend([embedding_dict[name] for name in ['girl', 'boy', 'queen', 'king', 'man', 'woman', 'basketball', 'football', 'cat', 'dog', 'love', 'hate', 'son', 'daughter', 'country', 'city', 'state']])\n",
        "  sample_indices.extend([embedding_dict[name] for name in ['prince', 'princess', 'small', 'large', 'big', 'life', 'death']])\n",
        "  sample_indices.extend([embedding_dict[name] for name in ['university', 'school', 'college', 'teacher', 'math', 'algebra', 'calculus', 'history', 'art', 'science']])\n",
        "  sample_indices.extend([embedding_dict[name] for name in ['aries', 'taurus', 'gemini', 'cancer', 'leo', 'virgo', 'libra', 'scorpio', 'sagittarius', 'capricorn', 'aquarius', 'pisces']])\n",
        "  sample_indices.extend([embedding_dict[name] for name in ['bird', 'deer', 'bear', 'dog', 'cat', 'lion', 'frog', 'elephant', 'giraffe', 'fox', 'hippopotamus', 'monkey', 'turtle', 'snake', 'fish']])\n",
        "  sample_indices.extend([embedding_dict[name] for name in ['mom', 'dad', 'son', 'daughter', 'family', 'grandmother', 'grandfather', 'brother', 'sister']])\n",
        "\n",
        "  sample_indices = list(set(sample_indices))\n",
        "  index2word = {value: key for key, value in embedding_dict.items()}\n",
        "  subsample_weights = embedding_weights[sample_indices]\n",
        "  sub_mapping = [index2word[i] for i in sample_indices]\n",
        "  plot_tsne(subsample_weights, sub_mapping)\n"
      ],
      "execution_count": 0,
      "outputs": []
    },
    {
      "cell_type": "code",
      "metadata": {
        "id": "nL3h7q9GmalD",
        "colab_type": "code",
        "colab": {
          "base_uri": "https://localhost:8080/",
          "height": 232
        },
        "outputId": "5af1f71e-bf8d-43b5-b6da-0a408ee285f1"
      },
      "source": [
        "# Plot t-SNE\n",
        "# hoyer_10_path = NLP_directory + '/final_embeds/'+'300_10.0_90_embeddings.npz'\n",
        "hoyer_10_path = '../embeddings/'+'300_10.0_90_embeddings.npz'\n",
        "\n",
        "hoyer_10_embeds = np.load(hoyer_10_path)['a']\n",
        "t_SNE(embedding_dict, hoyer_10_embeds)"
      ],
      "execution_count": 3,
      "outputs": [
        {
          "output_type": "stream",
          "text": [
            "ERROR! Session/line number was not unique in database. History logging moved to new session 60\n"
          ],
          "name": "stdout"
        },
        {
          "output_type": "error",
          "ename": "NameError",
          "evalue": "ignored",
          "traceback": [
            "\u001b[0;31m---------------------------------------------------------------------------\u001b[0m",
            "\u001b[0;31mNameError\u001b[0m                                 Traceback (most recent call last)",
            "\u001b[0;32m<ipython-input-3-d2f500c21ed1>\u001b[0m in \u001b[0;36m<module>\u001b[0;34m()\u001b[0m\n\u001b[1;32m      1\u001b[0m \u001b[0mhoyer_10_path\u001b[0m \u001b[0;34m=\u001b[0m \u001b[0;34m'../embeddings/'\u001b[0m\u001b[0;34m+\u001b[0m\u001b[0;34m'300_10.0_90_embeddings.npz'\u001b[0m\u001b[0;34m\u001b[0m\u001b[0;34m\u001b[0m\u001b[0m\n\u001b[1;32m      2\u001b[0m \u001b[0;34m\u001b[0m\u001b[0m\n\u001b[0;32m----> 3\u001b[0;31m \u001b[0mhoyer_10_embeds\u001b[0m \u001b[0;34m=\u001b[0m \u001b[0mnp\u001b[0m\u001b[0;34m.\u001b[0m\u001b[0mload\u001b[0m\u001b[0;34m(\u001b[0m\u001b[0mhoyer_10_path\u001b[0m\u001b[0;34m)\u001b[0m\u001b[0;34m[\u001b[0m\u001b[0;34m'a'\u001b[0m\u001b[0;34m]\u001b[0m\u001b[0;34m\u001b[0m\u001b[0;34m\u001b[0m\u001b[0m\n\u001b[0m\u001b[1;32m      4\u001b[0m \u001b[0mt_SNE\u001b[0m\u001b[0;34m(\u001b[0m\u001b[0membedding_dict\u001b[0m\u001b[0;34m,\u001b[0m \u001b[0mhoyer_10_embeds\u001b[0m\u001b[0;34m)\u001b[0m\u001b[0;34m\u001b[0m\u001b[0;34m\u001b[0m\u001b[0m\n",
            "\u001b[0;31mNameError\u001b[0m: name 'np' is not defined"
          ]
        }
      ]
    },
    {
      "cell_type": "code",
      "metadata": {
        "id": "2pBb4MT2mkhJ",
        "colab_type": "code",
        "colab": {}
      },
      "source": [
        "\"\""
      ],
      "execution_count": 0,
      "outputs": []
    }
  ]
}