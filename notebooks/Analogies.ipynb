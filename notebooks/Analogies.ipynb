{
 "cells": [
  {
   "cell_type": "markdown",
   "metadata": {
    "colab_type": "text",
    "id": "vMy9biVUAuZJ"
   },
   "source": [
    "## SETUP"
   ]
  },
  {
   "cell_type": "markdown",
   "metadata": {
    "colab_type": "text",
    "id": "jLK9pmISAsQR"
   },
   "source": []
  },
  {
   "cell_type": "code",
   "execution_count": 47,
   "metadata": {
    "colab": {
     "base_uri": "https://localhost:8080/",
     "height": 34
    },
    "colab_type": "code",
    "executionInfo": {
     "elapsed": 478,
     "status": "ok",
     "timestamp": 1583084588321,
     "user": {
      "displayName": "Aneesh Pappu",
      "photoUrl": "https://lh3.googleusercontent.com/a-/AAuE7mAd7g9Mtf5hzYf5M_-AuNqtCn2V_uL1Ys5IGMC-sA=s64",
      "userId": "12681851174811573325"
     },
     "user_tz": 0
    },
    "id": "wRFnmYGW6106",
    "outputId": "ce1f28cf-a3cc-4e4f-bcfb-6e02c13a1025"
   },
   "outputs": [
    {
     "name": "stdout",
     "output_type": "stream",
     "text": [
      "Device used:  cpu\n"
     ]
    }
   ],
   "source": [
    "import requests\n",
    "import gzip\n",
    "import zipfile\n",
    "import os\n",
    "from os import path\n",
    "import numpy as np\n",
    "import matplotlib.pyplot as plt\n",
    "import copy\n",
    "import re\n",
    "import torch \n",
    "import io\n",
    "import time \n",
    "import pickle\n",
    "from collections import defaultdict\n",
    "from datetime import datetime\n",
    "import sys\n",
    "sys.path.append('..')\n",
    "\n",
    "import waku\n",
    "from waku.tasks.word_analogies.analogies import get_wordanalogy_scores\n",
    "\n",
    "device = torch.device(\"cuda\" if torch.cuda.is_available() else \"cpu\")\n",
    "print(\"Device used: \", device)"
   ]
  },
  {
   "cell_type": "code",
   "execution_count": 2,
   "metadata": {
    "colab": {
     "base_uri": "https://localhost:8080/",
     "height": 122
    },
    "colab_type": "code",
    "executionInfo": {
     "elapsed": 109475,
     "status": "ok",
     "timestamp": 1583082570390,
     "user": {
      "displayName": "Aneesh Pappu",
      "photoUrl": "https://lh3.googleusercontent.com/a-/AAuE7mAd7g9Mtf5hzYf5M_-AuNqtCn2V_uL1Ys5IGMC-sA=s64",
      "userId": "12681851174811573325"
     },
     "user_tz": 0
    },
    "id": "1o2AU7TQ8Rdr",
    "outputId": "1f6edc2d-8961-4803-f4f0-13d3721d8b3c"
   },
   "outputs": [
    {
     "name": "stdout",
     "output_type": "stream",
     "text": [
      "Go to this URL in a browser: https://accounts.google.com/o/oauth2/auth?client_id=947318989803-6bn6qk8qdgf4n4g3pfee6491hc0brc4i.apps.googleusercontent.com&redirect_uri=urn%3aietf%3awg%3aoauth%3a2.0%3aoob&response_type=code&scope=email%20https%3a%2f%2fwww.googleapis.com%2fauth%2fdocs.test%20https%3a%2f%2fwww.googleapis.com%2fauth%2fdrive%20https%3a%2f%2fwww.googleapis.com%2fauth%2fdrive.photos.readonly%20https%3a%2f%2fwww.googleapis.com%2fauth%2fpeopleapi.readonly\n",
      "\n",
      "Enter your authorization code:\n",
      "··········\n",
      "Mounted at /content/drive\n"
     ]
    }
   ],
   "source": [
    "from google.colab import drive\n",
    "drive.mount('/content/drive')"
   ]
  },
  {
   "cell_type": "code",
   "execution_count": 0,
   "metadata": {
    "colab": {},
    "colab_type": "code",
    "id": "GFzCdPWd8jyl"
   },
   "outputs": [],
   "source": [
    "# if you want, you can use the below script to automatically find where the directory is in your GDrive and cd into it.\n",
    "# %cd '/content/drive'\n",
    "# directory_name = !find . -type d -name \"ucl-nlp-finalproject\"\n",
    "# directory_name = directory_name[0]\n",
    "# print(directory_name)"
   ]
  },
  {
   "cell_type": "code",
   "execution_count": 3,
   "metadata": {
    "colab": {
     "base_uri": "https://localhost:8080/",
     "height": 34
    },
    "colab_type": "code",
    "executionInfo": {
     "elapsed": 479,
     "status": "ok",
     "timestamp": 1583082580170,
     "user": {
      "displayName": "Aneesh Pappu",
      "photoUrl": "https://lh3.googleusercontent.com/a-/AAuE7mAd7g9Mtf5hzYf5M_-AuNqtCn2V_uL1Ys5IGMC-sA=s64",
      "userId": "12681851174811573325"
     },
     "user_tz": 0
    },
    "id": "HwjOO4Pt8xcS",
    "outputId": "2c11fdb7-7eb9-458e-bfdf-c2e5755f2213"
   },
   "outputs": [
    {
     "name": "stdout",
     "output_type": "stream",
     "text": [
      "/content/drive/My Drive/Colab Notebooks\n"
     ]
    }
   ],
   "source": [
    "%cd 'drive/My Drive/Colab Notebooks'"
   ]
  },
  {
   "cell_type": "code",
   "execution_count": 45,
   "metadata": {
    "colab": {
     "base_uri": "https://localhost:8080/",
     "height": 181
    },
    "colab_type": "code",
    "executionInfo": {
     "elapsed": 529,
     "status": "error",
     "timestamp": 1583084847318,
     "user": {
      "displayName": "Aneesh Pappu",
      "photoUrl": "https://lh3.googleusercontent.com/a-/AAuE7mAd7g9Mtf5hzYf5M_-AuNqtCn2V_uL1Ys5IGMC-sA=s64",
      "userId": "12681851174811573325"
     },
     "user_tz": 0
    },
    "id": "89SxZXtFNYvS",
    "outputId": "ac574a86-1b68-400f-8e3d-f7362eb92dfb"
   },
   "outputs": [
    {
     "ename": "AssertionError",
     "evalue": "",
     "output_type": "error",
     "traceback": [
      "\u001b[0;31m---------------------------------------------------------------------------\u001b[0m",
      "\u001b[0;31mAssertionError\u001b[0m                            Traceback (most recent call last)",
      "\u001b[0;32m<ipython-input-45-e4622a77fcea>\u001b[0m in \u001b[0;36m<module>\u001b[0;34m\u001b[0m\n\u001b[1;32m      1\u001b[0m \u001b[0mEXPERIMENT_FOLDER_NAME\u001b[0m \u001b[0;34m=\u001b[0m \u001b[0;34m\"\"\u001b[0m\u001b[0;34m\u001b[0m\u001b[0;34m\u001b[0m\u001b[0m\n\u001b[0;32m----> 2\u001b[0;31m \u001b[0;32massert\u001b[0m \u001b[0mEXPERIMENT_FOLDER_NAME\u001b[0m \u001b[0;32min\u001b[0m \u001b[0;34m[\u001b[0m\u001b[0;34m'hoyer_1000'\u001b[0m\u001b[0;34m,\u001b[0m \u001b[0;34m'hoyer_300'\u001b[0m\u001b[0;34m,\u001b[0m \u001b[0;34m'spine_1000_1000'\u001b[0m\u001b[0;34m,\u001b[0m \u001b[0;34m'spine_300_1000'\u001b[0m\u001b[0;34m,\u001b[0m \u001b[0;34m'spine_300_300'\u001b[0m\u001b[0;34m,\u001b[0m \u001b[0;34m'vanilla_1000'\u001b[0m\u001b[0;34m,\u001b[0m \u001b[0;34m'vanilla_300'\u001b[0m\u001b[0;34m]\u001b[0m\u001b[0;34m\u001b[0m\u001b[0;34m\u001b[0m\u001b[0m\n\u001b[0m\u001b[1;32m      3\u001b[0m \u001b[0;32massert\u001b[0m \u001b[0mlen\u001b[0m\u001b[0;34m(\u001b[0m\u001b[0mEXPERIMENT_FOLDER_NAME\u001b[0m\u001b[0;34m)\u001b[0m \u001b[0;34m!=\u001b[0m \u001b[0;36m0\u001b[0m\u001b[0;34m\u001b[0m\u001b[0;34m\u001b[0m\u001b[0m\n",
      "\u001b[0;31mAssertionError\u001b[0m: "
     ]
    }
   ],
   "source": [
    "EXPERIMENT_FOLDER_NAME = \"\"\n",
    "assert EXPERIMENT_FOLDER_NAME in ['hoyer_1000', 'hoyer_300', 'spine_1000_1000', 'spine_300_1000', 'spine_300_300', 'vanilla_1000', 'vanilla_300']\n",
    "assert len(EXPERIMENT_FOLDER_NAME) != 0"
   ]
  },
  {
   "cell_type": "code",
   "execution_count": 0,
   "metadata": {
    "colab": {},
    "colab_type": "code",
    "id": "Q8JCAoojA-k_"
   },
   "outputs": [],
   "source": [
    "## Load embeddings from .npy file and load W2V_dict (word to id) from pickle file\n",
    "W2V_weights = np.load('embeddings.npy')\n",
    "with open('word2index.pickle', 'rb') as handle:\n",
    "  W2V_dict = pickle.load(handle)\n",
    "# with open('word_freq.pickle', 'rb') as handle2:\n",
    "#   W2freq_dict = pickle.load(handle2)"
   ]
  },
  {
   "cell_type": "markdown",
   "metadata": {
    "colab_type": "text",
    "id": "KnuXLb8g611L"
   },
   "source": [
    "### ANALOGIES"
   ]
  },
  {
   "cell_type": "code",
   "execution_count": 20,
   "metadata": {
    "colab": {
     "base_uri": "https://localhost:8080/",
     "height": 867
    },
    "colab_type": "code",
    "executionInfo": {
     "elapsed": 20899,
     "status": "ok",
     "timestamp": 1583084723848,
     "user": {
      "displayName": "Aneesh Pappu",
      "photoUrl": "https://lh3.googleusercontent.com/a-/AAuE7mAd7g9Mtf5hzYf5M_-AuNqtCn2V_uL1Ys5IGMC-sA=s64",
      "userId": "12681851174811573325"
     },
     "user_tz": 0
    },
    "id": "LqcGAGqa1xRB",
    "outputId": "c5e4eb5d-13d4-4af8-bb85-78305643f7b2"
   },
   "outputs": [
    {
     "name": "stdout",
     "output_type": "stream",
     "text": [
      "Done scanning, threw 438 examples out of 19106 total = 2.292473568512509 % discarded\n",
      "finished batch 1 out of 14, took 0.4430065155029297 seconds\n",
      "finished batch 2 out of 15, took 0.7773175239562988 seconds\n",
      "finished batch 3 out of 15, took 0.44916510581970215 seconds\n",
      "finished batch 4 out of 16, took 0.8971123695373535 seconds\n",
      "finished batch 5 out of 17, took 1.3446683883666992 seconds\n",
      "finished batch 6 out of 18, took 1.7935545444488525 seconds\n",
      "finished batch 7 out of 19, took 2.243464708328247 seconds\n",
      "finished batch 8 out of 20, took 2.6937456130981445 seconds\n",
      "finished batch 9 out of 21, took 3.1356089115142822 seconds\n",
      "finished batch 10 out of 22, took 3.5828776359558105 seconds\n",
      "finished batch 11 out of 23, took 3.9767773151397705 seconds\n",
      "finished batch 12 out of 23, took 0.4341607093811035 seconds\n",
      "finished batch 13 out of 24, took 0.8526771068572998 seconds\n",
      "finished batch 14 out of 24, took 0.4484748840332031 seconds\n",
      "finished batch 15 out of 25, took 0.9016714096069336 seconds\n",
      "finished batch 16 out of 26, took 1.3558018207550049 seconds\n",
      "finished batch 17 out of 27, took 1.8080108165740967 seconds\n",
      "finished batch 18 out of 28, took 2.251357078552246 seconds\n",
      "finished batch 19 out of 28, took 0.4427015781402588 seconds\n",
      "finished batch 20 out of 29, took 0.7741703987121582 seconds\n",
      "finished batch 21 out of 29, took 0.4347798824310303 seconds\n",
      "finished batch 22 out of 30, took 0.8834049701690674 seconds\n",
      "finished batch 23 out of 30, took 0.4459495544433594 seconds\n",
      "finished batch 24 out of 31, took 0.8463034629821777 seconds\n",
      "finished batch 25 out of 31, took 0.44410276412963867 seconds\n",
      "finished batch 26 out of 32, took 0.8862447738647461 seconds\n",
      "finished batch 27 out of 33, took 1.2932758331298828 seconds\n",
      "finished batch 28 out of 33, took 0.44127869606018066 seconds\n",
      "finished batch 29 out of 34, took 0.8843541145324707 seconds\n",
      "finished batch 30 out of 34, took 0.4508635997772217 seconds\n",
      "finished batch 31 out of 35, took 0.8944652080535889 seconds\n",
      "finished batch 32 out of 36, took 1.243286371231079 seconds\n",
      "finished batch 33 out of 36, took 0.43082475662231445 seconds\n",
      "finished batch 34 out of 37, took 0.8737161159515381 seconds\n",
      "finished batch 35 out of 38, took 1.3300034999847412 seconds\n",
      "finished batch 36 out of 39, took 1.683852195739746 seconds\n",
      "finished batch 37 out of 39, took 0.435915470123291 seconds\n",
      "finished batch 38 out of 40, took 0.8779518604278564 seconds\n",
      "finished batch 39 out of 41, took 1.320868730545044 seconds\n",
      "finished batch 40 out of 42, took 1.6679871082305908 seconds\n",
      "finished batch 41 out of 42, took 0.4358072280883789 seconds\n",
      "finished batch 42 out of 43, took 0.881089448928833 seconds\n",
      "finished batch 43 out of 44, took 1.2894997596740723 seconds\n",
      "finished batch 44 out of 44, took 0.4483635425567627 seconds\n",
      "finished batch 45 out of 45, took 0.8647117614746094 seconds\n",
      "computing total accuracy\n",
      "total correct: 0, total found: 19106\n",
      "total acc: 0.0\n",
      "Completed, takes: 19.862764358520508 seconds\n"
     ]
    }
   ],
   "source": [
    "# do it on the restricted weights, i.e. first 300000 word vectors (roughly sorted by frequency as per Mikolov's post)\n",
    "start = time.time()\n",
    "scores, total_correct, total_found, total_accuracy = get_wordanalogy_scores(\"./\", W2V_dict, W2V_weights, True) # False means we have embeddings for uppercased words, True menas embeddings for lowercase\n",
    "end = time.time()\n",
    "print(\"Completed, takes: {} seconds\".format(end - start))"
   ]
  },
  {
   "cell_type": "code",
   "execution_count": 17,
   "metadata": {
    "colab": {
     "base_uri": "https://localhost:8080/",
     "height": 34
    },
    "colab_type": "code",
    "executionInfo": {
     "elapsed": 568,
     "status": "ok",
     "timestamp": 1583084477390,
     "user": {
      "displayName": "Aneesh Pappu",
      "photoUrl": "https://lh3.googleusercontent.com/a-/AAuE7mAd7g9Mtf5hzYf5M_-AuNqtCn2V_uL1Ys5IGMC-sA=s64",
      "userId": "12681851174811573325"
     },
     "user_tz": 0
    },
    "id": "ooJwqE_4GABs",
    "outputId": "f7631b52-a55b-4a67-94a1-87a613c91bba"
   },
   "outputs": [
    {
     "name": "stdout",
     "output_type": "stream",
     "text": [
      "0.0\n"
     ]
    }
   ],
   "source": [
    "with open('../waku/data/scores/{}/{}.txt'.format(EXPERIMENT_FOLDER_NAME,'analogies_' + str(datetime.now())), 'w') as out:\n",
    "  out.write(\"Total accuracy: {}. Total correct {} out of total found {}\".format(total_accuracy, total_correct, total_found))"
   ]
  }
 ],
 "metadata": {
  "accelerator": "GPU",
  "colab": {
   "collapsed_sections": [],
   "machine_shape": "hm",
   "name": "Analogies_local_practice.ipynb",
   "provenance": []
  },
  "kernelspec": {
   "display_name": "Python 3",
   "language": "python",
   "name": "python3"
  },
  "language_info": {
   "codemirror_mode": {
    "name": "ipython",
    "version": 3
   },
   "file_extension": ".py",
   "mimetype": "text/x-python",
   "name": "python",
   "nbconvert_exporter": "python",
   "pygments_lexer": "ipython3",
   "version": "3.6.7"
  }
 },
 "nbformat": 4,
 "nbformat_minor": 1
}
