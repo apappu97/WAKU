{
 "cells": [
  {
   "cell_type": "code",
   "execution_count": null,
   "metadata": {},
   "outputs": [],
   "source": [
    "from google.colab import drive # import drive from google colab\n",
    "from os.path import join  "
   ]
  },
  {
   "cell_type": "code",
   "execution_count": null,
   "metadata": {},
   "outputs": [],
   "source": [
    "ROOT = \"/content/drive\"     # default location for the drive\n",
    "print(ROOT)                 # print content of ROOT (Optional)\n",
    "\n",
    "drive.mount(ROOT)           # we mount the google drive at /content/drive"
   ]
  },
  {
   "cell_type": "code",
   "execution_count": null,
   "metadata": {},
   "outputs": [],
   "source": [
    "%cd '/content/drive'\n",
    "directory_name = !find . -type d -name \"ucl-nlp-finalproject\"\n",
    "directory_name = directory_name[0]\n",
    "print(directory_name)"
   ]
  },
  {
   "cell_type": "code",
   "execution_count": null,
   "metadata": {},
   "outputs": [],
   "source": [
    "%cd $directory_name"
   ]
  },
  {
   "cell_type": "code",
   "execution_count": null,
   "metadata": {},
   "outputs": [],
   "source": [
    "import sys\n",
    "sys.path.append('..')\n",
    "import numpy as np\n",
    "import pickle\n",
    "import waku\n",
    "from waku.tasks.sentiment_analysis.sentiment_analysis_downstream import SST, Extrinsic_Sentiment_Analysis\n",
    "from waku.tasks.word_intrusion.word_intrusion import top_ten, dist_ratio"
   ]
  },
  {
   "cell_type": "code",
   "execution_count": null,
   "metadata": {},
   "outputs": [],
   "source": [
    "# file paths must be .pickle and .npy\n",
    "dict_filepath = 'some_filepath.pickle'\n",
    "weights_filepath = 'some_other_filepath.npy'\n",
    "\n",
    "# folder path for saving experiments\n",
    "EXPERIMENT_FOLDER_PATH = \"\"\n",
    "NAME = \"vanilla_300\"\n",
    "\n",
    "# assert EXPERIMENT_FOLDER_NAME in ['hoyer_1000', 'hoyer_300', 'spine_1000_1000', 'spine_300_1000', 'spine_300_300', 'vanilla_1000', 'vanilla_300']\n",
    "# assert len(EXPERIMENT_FOLDER_NAME) != 0"
   ]
  },
  {
   "cell_type": "code",
   "execution_count": null,
   "metadata": {},
   "outputs": [],
   "source": [
    "# read pickle file into dictionary\n",
    "def load_pickle(filepath):\n",
    "    # file path must end with .pickle\n",
    "    pickle_in = open(filepath,\"rb\")\n",
    "    emb_dict = pickle.load(pickle_in)\n",
    "    return emb_dict\n",
    "\n",
    "# load using helper function\n",
    "embedding_dict = load_pickle(dict_filepath)\n",
    "embedding_weights = np.load(weights_filepath)['a']"
   ]
  },
  {
   "cell_type": "markdown",
   "metadata": {},
   "source": [
    "Run sentiment analysis experiment:"
   ]
  },
  {
   "cell_type": "code",
   "execution_count": null,
   "metadata": {},
   "outputs": [],
   "source": [
    "# Instantiate a *SST* to load Stanford Sentiment Treebank train/test/val data\n",
    "SST_instance = SST()\n",
    "\n",
    "# Load an instance of the *Extrinsic_Sentiment_Analysis* class with a given dictionary and \n",
    "# weights at which point we reduce the vocabulary into words present in SST\n",
    "Experiment = Extrinsic_Sentiment_Analysis(SST_instance, embedding_dict, embedding_weights)\n",
    "\n",
    "# Train a specified LSTM model for a given number of epochs using the *train* function\n",
    "Experiment.train(epochs=50, learning_rate=0.001, batch_size=512, hidden_size=300, rnn_layers=2, mlp_layer_widths=100)\n",
    "\n",
    "# Calculate accuracy on the test set and save\n",
    "Experiment.test(print_accuracies=True, save_test_acc=True, file_path=EXPERIMENT_FOLDER_PATH, file_name=NAME)\n",
    "\n",
    "# reset data class\n",
    "SST_instance.reset()"
   ]
  },
  {
   "cell_type": "markdown",
   "metadata": {},
   "source": [
    "Word intrusion experiment:"
   ]
  },
  {
   "cell_type": "code",
   "execution_count": null,
   "metadata": {},
   "outputs": [],
   "source": [
    "top_ten = top_ten_set(embedding_weights)\n",
    "dist_ratio(embedding_weights, top_ten, 5, 10, print_result=True, save_acc=True, file_path=EXPERIMENT_FOLDER_NAME, file_name=NAME)"
   ]
  }
 ],
 "metadata": {
  "kernelspec": {
   "display_name": "Python 3",
   "language": "python",
   "name": "python3"
  },
  "language_info": {
   "codemirror_mode": {
    "name": "ipython",
    "version": 3
   },
   "file_extension": ".py",
   "mimetype": "text/x-python",
   "name": "python",
   "nbconvert_exporter": "python",
   "pygments_lexer": "ipython3",
   "version": "3.7.3"
  }
 },
 "nbformat": 4,
 "nbformat_minor": 2
}
