{
 "cells": [
  {
   "cell_type": "code",
   "execution_count": null,
   "metadata": {},
   "outputs": [],
   "source": [
    "from google.colab import drive # import drive from google colab\n",
    "from os.path import join  "
   ]
  },
  {
   "cell_type": "code",
   "execution_count": null,
   "metadata": {},
   "outputs": [],
   "source": [
    "ROOT = \"/content/drive\"     # default location for the drive\n",
    "print(ROOT)                 # print content of ROOT (Optional)\n",
    "\n",
    "drive.mount(ROOT)           # we mount the google drive at /content/drive"
   ]
  },
  {
   "cell_type": "code",
   "execution_count": null,
   "metadata": {},
   "outputs": [],
   "source": [
    "%cd '/content/drive'\n",
    "directory_name = !find . -type d -name \"ucl-nlp-finalproject\"\n",
    "directory_name = directory_name[0]\n",
    "print(directory_name)"
   ]
  },
  {
   "cell_type": "code",
   "execution_count": null,
   "metadata": {},
   "outputs": [],
   "source": [
    "%cd $directory_name"
   ]
  },
  {
   "cell_type": "code",
   "execution_count": null,
   "metadata": {},
   "outputs": [],
   "source": [
    "import sys\n",
    "sys.path.append('..')\n",
    "import numpy as np\n",
    "import pickle\n",
    "import waku\n",
    "import time\n",
    "from datetime import datetime\n",
    "import re\n",
    "from os import path\n",
    "\n",
    "from waku.tasks.sentiment_analysis.sentiment_analysis_downstream import SST, Extrinsic_Sentiment_Analysis\n",
    "from waku.tasks.word_intrusion.word_intrusion import top_ten_set, dist_ratio\n",
    "from waku.tasks.word_similarity.word_sim import loadSimilarlityData, evaluate"
   ]
  },
  {
   "cell_type": "code",
   "execution_count": null,
   "metadata": {},
   "outputs": [],
   "source": [
    "# read pickle file into dictionary\n",
    "def load_pickle(filepath):\n",
    "    # file path must end with .pickle\n",
    "    pickle_in = open(filepath,\"rb\")\n",
    "    emb_dict = pickle.load(pickle_in)\n",
    "    return emb_dict\n",
    "\n",
    "# load using helper function\n",
    "dict_path = '/content/drive/My Drive/UCL_ML/NLP Class/word2vec_data/word2index.pickle'\n",
    "embedding_dict = load_pickle(dict_path)\n",
    "\n",
    "\n",
    "# load similarlity pairs\n",
    "annotated_pairs_path = '/content/drive/My Drive/UCL_ML/NLP Class/word_sim_val/human_sim.txt'\n",
    "pairs_data = loadSimilarlityData(annotated_pairs_path)\n",
    "\n",
    "# folder path for saving experiments\n",
    "EXPERIMENT_FOLDER_PATH = '/content/drive/My Drive/UCL_ML/NLP Class/kush_results'"
   ]
  },
  {
   "cell_type": "markdown",
   "metadata": {},
   "source": [
    "Sentiment analysis experiment:"
   ]
  },
  {
   "cell_type": "code",
   "execution_count": null,
   "metadata": {},
   "outputs": [],
   "source": [
    "def sentiment_analysis(embedding_dict, embedding_weights)\n",
    "    # Instantiate a *SST* to load Stanford Sentiment Treebank train/test/val data\n",
    "    SST_instance = SST()\n",
    "\n",
    "    # Load an instance of the *Extrinsic_Sentiment_Analysis* class with a given dictionary and \n",
    "    # weights at which point we reduce the vocabulary into words present in SST\n",
    "    Experiment = Extrinsic_Sentiment_Analysis(SST_instance, embedding_dict, embedding_weights)\n",
    "\n",
    "    # Train a specified LSTM model for a given number of epochs using the *train* function\n",
    "    Experiment.train(epochs=50, learning_rate=0.001, batch_size=512, hidden_size=300, rnn_layers=2, mlp_layer_widths=100)\n",
    "\n",
    "    # Calculate accuracy on the test set and save\n",
    "    Experiment.test(print_accuracies=True, save_test_acc=True, file_path=)\n",
    "    \n",
    "    # reset data class\n",
    "    SST_instance.reset()\n",
    "    \n",
    "    return Experiment.bestAccuracy[\"test set\"]"
   ]
  },
  {
   "cell_type": "markdown",
   "metadata": {},
   "source": [
    "Word intrusion experiment:"
   ]
  },
  {
   "cell_type": "code",
   "execution_count": null,
   "metadata": {},
   "outputs": [],
   "source": [
    "def word_intrusion_experiment(embedding_weights):\n",
    "    top_ten = top_ten_set(embedding_weights)\n",
    "    results = dist_ratio(embedding_weights, top_ten, 5, 10, print_result=True, save_acc=True, file_path=EXPERIMENT_FOLDER_PATH)\n",
    "    \n",
    "    return results['mean']"
   ]
  },
  {
   "cell_type": "markdown",
   "metadata": {},
   "source": [
    "Word similarlity experiment:"
   ]
  },
  {
   "cell_type": "code",
   "execution_count": null,
   "metadata": {},
   "outputs": [],
   "source": [
    "percents = [10, 30, 50, 70, 90]\n",
    "scores = np.array((5,7))\n",
    "for i in range(len(percents)):\n",
    "    np.array[i,0] = percents[i]\n",
    "    \n",
    "    weights_filepath = '/content/drive/My Drive/UCL_ML/NLP Class/word2vec_data/300'+'hs_300_'+str(percents[i])+'percent_embeddings.npz'\n",
    "    embedding_weights = np.load(weights_filepath)['a']\n",
    "    \n",
    "    # sentiment analysis\n",
    "    tic = time.perf_counter()\n",
    "    sa_score = sentiment_analysis(embedding_dict, embedding_weights)\n",
    "    toc = time.perf_counter()\n",
    "    scores[i,1] = sa_score\n",
    "    scores[i,2] = toc-tic\n",
    "    \n",
    "    # intrusion\n",
    "    tic = time.perf_counter()\n",
    "    intrusion_score = word_intrusion_experiment(embedding_weights)\n",
    "    toc = time.perf_counter()\n",
    "    scores[i,3] = intrusion_score\n",
    "    scores[i,4] = toc-tic\n",
    "    \n",
    "    # similarlity\n",
    "    tic = time.perf_counter()\n",
    "    similarlity_score, _ = evaluate(dict_path, weights_filepath, pairs_data, 'test', verbose=False)\n",
    "    toc = time.perf_counter()\n",
    "    scores[i,5] = similarlity_score\n",
    "    scores[i,6] = toc-tic\n",
    "    \n",
    "np.save(EXPERIMENT_FOLDER_PATH+'hoyer_300_sparse_scores', scores)"
   ]
  }
 ],
 "metadata": {
  "kernelspec": {
   "display_name": "Python 3",
   "language": "python",
   "name": "python3"
  },
  "language_info": {
   "codemirror_mode": {
    "name": "ipython",
    "version": 3
   },
   "file_extension": ".py",
   "mimetype": "text/x-python",
   "name": "python",
   "nbconvert_exporter": "python",
   "pygments_lexer": "ipython3",
   "version": "3.7.3"
  }
 },
 "nbformat": 4,
 "nbformat_minor": 2
}
